{
 "cells": [
  {
   "cell_type": "markdown",
   "source": [
    "## Function:\n",
    "\n",
    "- Question 1 (\bsquare numbers): \n",
    "    - Write a function that will print a list of squared numbers from 1 to 30.\n",
    "\n",
    "    - The result should look like this:\n",
    "        ```py\n",
    "            [1, 4, 9, 16, 25, 36, 49, 64, 81, 100, 121, 144, 169, 196, 225, 256, 289, 324, 361, 400, 441, 484, 529, 576, 625, 676, 729, 784, 841, 900]\n",
    "        ```\n",
    "        "
   ],
   "metadata": {},
   "attachments": {}
  },
  {
   "cell_type": "code",
   "execution_count": 3,
   "source": [
    "def make_square():\n",
    "    \n",
    "    sq_lst = []\n",
    "    \n",
    "    for i in range(1, 31):\n",
    "        sq_lst.append(i**2)\n",
    "    \n",
    "    print(sq_lst)\n",
    "\n",
    "make_square()"
   ],
   "outputs": [
    {
     "output_type": "stream",
     "name": "stdout",
     "text": [
      "[1, 4, 9, 16, 25, 36, 49, 64, 81, 100, 121, 144, 169, 196, 225, 256, 289, 324, 361, 400, 441, 484, 529, 576, 625, 676, 729, 784, 841, 900]\n"
     ]
    }
   ],
   "metadata": {}
  },
  {
   "cell_type": "markdown",
   "source": [
    "## Function:\n",
    "\n",
    "- Question 2 (find common elements): \n",
    "    - Write a function that can accept 2 lists and this function will return a dictionary containing the common elements in both lists.\n",
    "\n",
    "    - The result should look like this:\n",
    "\n",
    "        ```py\n",
    "            {2, 4, 6, 8}\n",
    "        ```"
   ],
   "metadata": {},
   "attachments": {}
  },
  {
   "cell_type": "code",
   "execution_count": 4,
   "source": [
    "lst1 = [1, 2, 3, 4, 5, 6, 7, 8, 9]\n",
    "lst2 = [2, 4, 6, 8]"
   ],
   "outputs": [],
   "metadata": {}
  },
  {
   "cell_type": "code",
   "execution_count": 7,
   "source": [
    "def find_common_elements(lst1, lst2):\n",
    "    \n",
    "    return set(lst1) & set(lst2)\n",
    "\n",
    "find_common_elements(lst1, lst2)"
   ],
   "outputs": [
    {
     "output_type": "execute_result",
     "data": {
      "text/plain": [
       "{2, 4, 6, 8}"
      ]
     },
     "metadata": {},
     "execution_count": 7
    }
   ],
   "metadata": {}
  },
  {
   "cell_type": "markdown",
   "source": [
    "## Function:\n",
    "\n",
    "- Question 3(find unique values): \n",
    "    - Write a function to take a list as an argument and return a dictionary which contains unique values from the input list.\n",
    "    - the result should look like this:\n",
    "    ```py\n",
    "        {1, 2, 3, 4, 5, 6, 9}\n",
    "    ```"
   ],
   "metadata": {},
   "attachments": {}
  },
  {
   "cell_type": "code",
   "execution_count": 9,
   "source": [
    "nums = [1,2,4,3,5,4,6,9,2,1]"
   ],
   "outputs": [],
   "metadata": {}
  },
  {
   "cell_type": "code",
   "execution_count": 11,
   "source": [
    "def find_uniques(lst):\n",
    "    \n",
    "    return set(lst)"
   ],
   "outputs": [],
   "metadata": {}
  },
  {
   "cell_type": "code",
   "execution_count": 12,
   "source": [
    "find_uniques(nums)"
   ],
   "outputs": [
    {
     "output_type": "execute_result",
     "data": {
      "text/plain": [
       "{1, 2, 3, 4, 5, 6, 9}"
      ]
     },
     "metadata": {},
     "execution_count": 12
    }
   ],
   "metadata": {}
  },
  {
   "cell_type": "markdown",
   "source": [
    "## Function:\n",
    "\n",
    "- Question 4 (show elements in a list by indexing):\n",
    "    - Write a function which takes a list as an argument and inside the function, you will use indices and `for` loop to print every element in the list.\n",
    "    - the result should look like this:\n",
    "    ```py\n",
    "        10\n",
    "        20\n",
    "        30\n",
    "        40\n",
    "        50\n",
    "        60\n",
    "        70\n",
    "        80\n",
    "    ```"
   ],
   "metadata": {}
  },
  {
   "cell_type": "code",
   "execution_count": 14,
   "source": [
    "nums = [10,20,30,40,50,60,70,80]"
   ],
   "outputs": [],
   "metadata": {}
  },
  {
   "cell_type": "code",
   "execution_count": 15,
   "source": [
    "def showing_elements(lst):\n",
    "    \n",
    "    for i in range(len(lst)):\n",
    "        print(lst[i])\n",
    "\n",
    "showing_elements(nums)"
   ],
   "outputs": [
    {
     "output_type": "stream",
     "name": "stdout",
     "text": [
      "10\n",
      "20\n",
      "30\n",
      "40\n",
      "50\n",
      "60\n",
      "70\n",
      "80\n"
     ]
    }
   ],
   "metadata": {}
  },
  {
   "cell_type": "markdown",
   "source": [
    "## Function:\n",
    "\n",
    "- Question 5 (addition, min, and max):\n",
    "    - Write a function which takes 2 input parameters, 1 is for taking a list, the other is to choose the operation type.\n",
    "    - And there are 3 operation types, `addition`, `max`,  `min`\n",
    "        - `addition`: the function will sum the whole list and return the result\n",
    "        - `max`: the function will return the maximum value of the list and return the result\n",
    "        - `min`: the funciton will return the minimum value of the list and return the result\n",
    "    - call this function 3 times with different operation types\n",
    "    - The result should look like this:\n",
    "    ```py\n",
    "        You choose: addition\n",
    "        360\n",
    "        You choose: max\n",
    "        80\n",
    "        You choose: min\n",
    "        10\n",
    "    ```"
   ],
   "metadata": {}
  },
  {
   "cell_type": "code",
   "execution_count": 17,
   "source": [
    "nums = [10,20,30,40,50,60,70,80]"
   ],
   "outputs": [],
   "metadata": {}
  },
  {
   "cell_type": "code",
   "execution_count": 21,
   "source": [
    "def math_op(nums, operation_types):\n",
    "    \n",
    "    print(f\"You choose: {operation_types}\")\n",
    "    if operation_types == \"addition\":\n",
    "        return sum(nums)\n",
    "    elif operation_types == \"max\":\n",
    "        return max(nums)\n",
    "    elif operation_types == 'min':\n",
    "        return min(nums)\n",
    "    else:\n",
    "        return \"check your input of operation_types parameter!\"\n",
    "    \n",
    "    "
   ],
   "outputs": [],
   "metadata": {}
  },
  {
   "cell_type": "code",
   "execution_count": 22,
   "source": [
    "math_op(nums, 'addition')"
   ],
   "outputs": [
    {
     "output_type": "stream",
     "name": "stdout",
     "text": [
      "You choose: addition\n"
     ]
    },
    {
     "output_type": "execute_result",
     "data": {
      "text/plain": [
       "360"
      ]
     },
     "metadata": {},
     "execution_count": 22
    }
   ],
   "metadata": {}
  },
  {
   "cell_type": "code",
   "execution_count": 23,
   "source": [
    "math_op(nums, 'max')"
   ],
   "outputs": [
    {
     "output_type": "stream",
     "name": "stdout",
     "text": [
      "You choose: max\n"
     ]
    },
    {
     "output_type": "execute_result",
     "data": {
      "text/plain": [
       "80"
      ]
     },
     "metadata": {},
     "execution_count": 23
    }
   ],
   "metadata": {}
  },
  {
   "cell_type": "code",
   "execution_count": 24,
   "source": [
    "math_op(nums, 'min')"
   ],
   "outputs": [
    {
     "output_type": "stream",
     "name": "stdout",
     "text": [
      "You choose: min\n"
     ]
    },
    {
     "output_type": "execute_result",
     "data": {
      "text/plain": [
       "10"
      ]
     },
     "metadata": {},
     "execution_count": 24
    }
   ],
   "metadata": {}
  },
  {
   "cell_type": "markdown",
   "source": [
    "## Function:\n",
    "\n",
    "- Question 6 (show colors):\n",
    "    - Write a function which has 2 parameters, 1 can take a list as an argument, and a default argument `first_three = True`.\n",
    "    - If `first_three = True`, then this function will return the first 3 elements in the list.\n",
    "    - If not, this function will return the last 3 elements in the list.\n",
    "    - Call the function twice. For the firs time, you will let `first_three = True`, and the second time, overwrite the default\n",
    "    - argument from `True` to `False`\n",
    "\n",
    "    - The result should look like this:\n",
    "    ```py\n",
    "      ['Red', 'Blue', 'Green']\n",
    "      ['Green', 'Black', 'White']\n",
    "    ```"
   ],
   "metadata": {}
  },
  {
   "cell_type": "code",
   "execution_count": 25,
   "source": [
    "colors = ['Red', 'Blue', 'Green', 'Black', 'White']"
   ],
   "outputs": [],
   "metadata": {}
  },
  {
   "cell_type": "code",
   "execution_count": 26,
   "source": [
    "def show_colors(lst, first_three = True):\n",
    "    \n",
    "    if first_three:\n",
    "        return lst[:3]\n",
    "    else:\n",
    "        return lst[-3:]"
   ],
   "outputs": [],
   "metadata": {}
  },
  {
   "cell_type": "code",
   "execution_count": 27,
   "source": [
    "show_colors(colors)"
   ],
   "outputs": [
    {
     "output_type": "execute_result",
     "data": {
      "text/plain": [
       "['Red', 'Blue', 'Green']"
      ]
     },
     "metadata": {},
     "execution_count": 27
    }
   ],
   "metadata": {}
  },
  {
   "cell_type": "code",
   "execution_count": 28,
   "source": [
    "show_colors(colors, False)"
   ],
   "outputs": [
    {
     "output_type": "execute_result",
     "data": {
      "text/plain": [
       "['Green', 'Black', 'White']"
      ]
     },
     "metadata": {},
     "execution_count": 28
    }
   ],
   "metadata": {}
  },
  {
   "cell_type": "markdown",
   "source": [
    "## Function:\n",
    "\n",
    "- Question 7 (remove duplicates from a dictionary):\n",
    "    - Write a function that can take a dictionary as an argument and return a dictionary without duplicated key and value pairs.\n",
    "    -  The result should look like this:\n",
    "        ```py\n",
    "            {'id1': {'name': ['Sara'],\n",
    "            'class': ['V'],\n",
    "            'subject_integration': ['english, math, science']},\n",
    "            'id2': {'name': ['David'],\n",
    "            'class': ['V'],\n",
    "            'subject_integration': ['english, math, science']},\n",
    "            'id4': {'name': ['Surya'],\n",
    "            'class': ['V'],\n",
    "            'subject_integration': ['english, math, science']}}\n",
    "        ```"
   ],
   "metadata": {}
  },
  {
   "cell_type": "code",
   "execution_count": 29,
   "source": [
    "student_data = {'id1': \n",
    "                    {'name': ['Sara'], \n",
    "                        'class': ['V'], \n",
    "                        'subject_integration': ['english, math, science']\n",
    "                    },\n",
    "                    'id2': \n",
    "                    {'name': ['David'], \n",
    "                        'class': ['V'], \n",
    "                        'subject_integration': ['english, math, science']\n",
    "                    },\n",
    "                    'id3': \n",
    "                        {'name': ['Sara'], \n",
    "                        'class': ['V'], \n",
    "                        'subject_integration': ['english, math, science']\n",
    "                    },\n",
    "                    'id4': \n",
    "                    {'name': ['Surya'], \n",
    "                        'class': ['V'], \n",
    "                        'subject_integration': ['english, math, science']\n",
    "                    },\n",
    "                }"
   ],
   "outputs": [],
   "metadata": {}
  },
  {
   "cell_type": "code",
   "execution_count": 30,
   "source": [
    "def remove_dupl_dict(data):\n",
    "    \n",
    "    new_dict = {}\n",
    "    \n",
    "    for k, v in data.items():\n",
    "        if v not in new_dict.values():\n",
    "            new_dict[k] = v\n",
    "    \n",
    "    return new_dict"
   ],
   "outputs": [],
   "metadata": {}
  },
  {
   "cell_type": "code",
   "execution_count": 31,
   "source": [
    "remove_dupl_dict(student_data)"
   ],
   "outputs": [
    {
     "output_type": "execute_result",
     "data": {
      "text/plain": [
       "{'id1': {'name': ['Sara'],\n",
       "  'class': ['V'],\n",
       "  'subject_integration': ['english, math, science']},\n",
       " 'id2': {'name': ['David'],\n",
       "  'class': ['V'],\n",
       "  'subject_integration': ['english, math, science']},\n",
       " 'id4': {'name': ['Surya'],\n",
       "  'class': ['V'],\n",
       "  'subject_integration': ['english, math, science']}}"
      ]
     },
     "metadata": {},
     "execution_count": 31
    }
   ],
   "metadata": {}
  },
  {
   "cell_type": "markdown",
   "source": [
    "## Function:\n",
    "\n",
    "- Question 8 (multiply values in a dictionary):\n",
    "    - Write a function that can take a dictionary as an argument and multiply all the values in the dictionary.\n",
    "    - The result should look like this:\n",
    "    ```py\n",
    "        -1333800\n",
    "    ```"
   ],
   "metadata": {}
  },
  {
   "cell_type": "code",
   "execution_count": 32,
   "source": [
    "data = {'data1':100,'data2':-54,'data3':247}"
   ],
   "outputs": [],
   "metadata": {}
  },
  {
   "cell_type": "code",
   "execution_count": 33,
   "source": [
    "def dict_multiply(data):\n",
    "    \n",
    "    m = 1\n",
    "    \n",
    "    for v in data.values():\n",
    "        m *= v\n",
    "    return m"
   ],
   "outputs": [],
   "metadata": {}
  },
  {
   "cell_type": "code",
   "execution_count": 34,
   "source": [
    "dict_multiply(data)"
   ],
   "outputs": [
    {
     "output_type": "execute_result",
     "data": {
      "text/plain": [
       "-1333800"
      ]
     },
     "metadata": {},
     "execution_count": 34
    }
   ],
   "metadata": {}
  },
  {
   "cell_type": "markdown",
   "source": [
    "## Function:\n",
    "\n",
    "- Question 9 (sum values from a dictionary):\n",
    "    - Write a function that can take a dictionary as an arguement and it will return the summation of the values from key-value pairs\n",
    "\n",
    "    - The result should look like this:\n",
    "    ```py\n",
    "      300\n",
    "    ```"
   ],
   "metadata": {}
  },
  {
   "cell_type": "code",
   "execution_count": 44,
   "source": [
    "d1 = {'a': 100, 'b': 200}"
   ],
   "outputs": [],
   "metadata": {}
  },
  {
   "cell_type": "code",
   "execution_count": 46,
   "source": [
    "def dict_sum(d1):\n",
    "    \n",
    "    total = 0\n",
    "    for i in d1.values():\n",
    "        total += i\n",
    "    return total\n",
    "\n",
    "dict_sum(d1)\n",
    "    "
   ],
   "outputs": [
    {
     "output_type": "execute_result",
     "data": {
      "text/plain": [
       "300"
      ]
     },
     "metadata": {},
     "execution_count": 46
    }
   ],
   "metadata": {}
  },
  {
   "cell_type": "markdown",
   "source": [
    "## Function:\n",
    "\n",
    "- Question 10 (combine 2 dictionaries and add the values for common keys):\n",
    "    - Write a function that can take 2 dictionaries as arguments and it will return a combined dictionary.\n",
    "      \n",
    "    - The result should look like this:\n",
    "    ```py\n",
    "        {'a': 400, 'b': 400, 'c': 300, 'd': 400}\n",
    "    ```"
   ],
   "metadata": {}
  },
  {
   "cell_type": "code",
   "execution_count": 47,
   "source": [
    "d1 = {'a': 100, 'b': 200, 'c':300}\n",
    "d2 = {'a': 300, 'b': 200, 'd':400}"
   ],
   "outputs": [],
   "metadata": {}
  },
  {
   "cell_type": "code",
   "execution_count": 48,
   "source": [
    "def new_dict(d1, d2):\n",
    "    \n",
    "    d3 = {}\n",
    "    \n",
    "    for k, v in d1.items():\n",
    "        if k not in d3.keys():\n",
    "            d3[k] = v\n",
    "    \n",
    "    for k, v in d2.items():\n",
    "        if k not in d3.keys():\n",
    "            d3[k] = v\n",
    "        else:\n",
    "            d3[k] += v\n",
    "    \n",
    "    return d3"
   ],
   "outputs": [],
   "metadata": {}
  },
  {
   "cell_type": "code",
   "execution_count": 49,
   "source": [
    "new_dict(d1, d2)"
   ],
   "outputs": [
    {
     "output_type": "execute_result",
     "data": {
      "text/plain": [
       "{'a': 400, 'b': 400, 'c': 300, 'd': 400}"
      ]
     },
     "metadata": {},
     "execution_count": 49
    }
   ],
   "metadata": {}
  },
  {
   "cell_type": "code",
   "execution_count": null,
   "source": [],
   "outputs": [],
   "metadata": {}
  }
 ],
 "metadata": {
  "kernelspec": {
   "name": "python3",
   "display_name": "Python 3.8.5 64-bit ('base': conda)"
  },
  "language_info": {
   "codemirror_mode": {
    "name": "ipython",
    "version": 3
   },
   "file_extension": ".py",
   "mimetype": "text/x-python",
   "name": "python",
   "nbconvert_exporter": "python",
   "pygments_lexer": "ipython3",
   "version": "3.8.5"
  },
  "orig_nbformat": 4,
  "interpreter": {
   "hash": "0c2a3eb2b4bb7385d62df44902d8a819643fb968efd7b2f0d85bc574e8a1e85b"
  }
 },
 "nbformat": 4,
 "nbformat_minor": 2
}