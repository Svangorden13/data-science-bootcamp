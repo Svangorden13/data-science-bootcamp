{
 "cells": [
  {
   "cell_type": "markdown",
   "source": [
    "## Conditional Statements (IF-Statements)\n",
    "\n",
    "- Question 1 (Checking Datatype):\n",
    "  - Step 1: Name a variable called \"breed\" and assign a breed name of dogs to this variable\n",
    "  - Step 2: Write an \"if statement\" to check if the type of this variable is a string and if it is, print a message, \"The data type of variable breed is string!\"<br>\n",
    "<br>\n",
    "  - The result should look like this:<br>\n",
    "      &rarr; The data type of variable breed is string!"
   ],
   "metadata": {}
  },
  {
   "cell_type": "code",
   "execution_count": 1,
   "source": [
    "breed = \"golden retriever\"\n",
    "\n",
    "if type(breed) == str:\n",
    "    print(\"The data type of variable breed is string!\")"
   ],
   "outputs": [
    {
     "output_type": "stream",
     "name": "stdout",
     "text": [
      "The data type of variable breed is string!\n"
     ]
    }
   ],
   "metadata": {}
  },
  {
   "cell_type": "markdown",
   "source": [
    "## Conditional Statements (IF-ELSE Statements)\n",
    "\n",
    "- Question 2 (Checking Odd/Even Number):\n",
    "  - Step 1: Name a variable called \"num\" and assign a positive integer to this variable\n",
    "  - Step 2: Write an \"if-else statement\" to test whether this number is even or odd. And print a message that this number is an even or odd number.<br>\n",
    "<br>\n",
    "  - The result should look like this:<br>\n",
    "      &rarr; 17 is an odd number!"
   ],
   "metadata": {}
  },
  {
   "cell_type": "code",
   "execution_count": 1,
   "source": [
    "num = 17\n",
    "\n",
    "if (num % 2)  == 0:\n",
    "    print(f\"{num} is an even number!\")\n",
    "else:\n",
    "    print(f\"{num} is an odd number!\")"
   ],
   "outputs": [
    {
     "output_type": "stream",
     "name": "stdout",
     "text": [
      "17 is an odd number!\n"
     ]
    }
   ],
   "metadata": {}
  },
  {
   "cell_type": "markdown",
   "source": [
    "## Conditional Statements (IF-ELIF-ELSE)\n",
    "\n",
    "- Question 3 (Check Grade):\n",
    "  - Step 1: Name a variable called \"score\" and assign a positive integer to this variable\n",
    "  - Step 2: Write an \"if-elif-else chain\" to print a message of the letter grade: <br>\n",
    "  <br>\n",
    "            - \"A+\" if the score is at least 100 <br>\n",
    "            - \"A\" if the score is at least 90 and less than 100 <br>\n",
    "            - \"B\" if the score is at least 80 and less than 90 <br>\n",
    "            - \"C\" if the score is at least 70 and less than 80 <br>\n",
    "            - \"D\" if the score is at least 60 and less than 70 <br>\n",
    "            - \"F\" if the score is less than 60 <br>\n",
    "<br>\n",
    "  - The result should look like this:<br>\n",
    "      &rarr; For a score of 78 the grade is: C"
   ],
   "metadata": {}
  },
  {
   "cell_type": "code",
   "execution_count": 2,
   "source": [
    "score = 78\n",
    "\n",
    "if score >= 100:\n",
    "    print(f\"For a score of {score} the grade is: A+\")\n",
    "elif score >= 90:\n",
    "    print(f\"For a score of {score} the grade is: A\")\n",
    "elif score >= 80:\n",
    "    print(f\"For a score of {score} the grade is: B\")\n",
    "elif score >= 70:\n",
    "    print(f\"For a score of {score} the grade is: C\")\n",
    "elif score >= 60:\n",
    "    print(f\"For a score of {score} the grade is: D\")\n",
    "else:\n",
    "    print(f\"For a score of {score} the grade is: F\")"
   ],
   "outputs": [
    {
     "output_type": "stream",
     "name": "stdout",
     "text": [
      "For a score of 78 the grade is: C\n"
     ]
    }
   ],
   "metadata": {}
  },
  {
   "cell_type": "markdown",
   "source": [
    "## Loops (FOR-LOOP):\n",
    "\n",
    "- Question 4 (Print Integers In Reversed Order):\n",
    "    - Step 1: Create a \"for loop\" to print integers in reversed order, starting from 10 and ending at 0.<br>\n",
    "<br>\n",
    "  - The result should look like this:<br>\n",
    "      &rarr; 10 <br>\n",
    "      &emsp; 9<br>\n",
    "      &emsp; 8<br>\n",
    "      &emsp; 7<br>\n",
    "      &emsp; 6<br>\n",
    "      &emsp; 5<br>\n",
    "      &emsp; 4<br>\n",
    "      &emsp; 3<br>\n",
    "      &emsp; 2<br>\n",
    "      &emsp; 1<br>\n",
    "      &emsp; 0<br>"
   ],
   "metadata": {}
  },
  {
   "cell_type": "code",
   "execution_count": 11,
   "source": [
    "# solution 1:\n",
    "\n",
    "for i in range(10, -1, -1):\n",
    "    print(i)"
   ],
   "outputs": [
    {
     "output_type": "stream",
     "name": "stdout",
     "text": [
      "10\n",
      "9\n",
      "8\n",
      "7\n",
      "6\n",
      "5\n",
      "4\n",
      "3\n",
      "2\n",
      "1\n",
      "0\n"
     ]
    }
   ],
   "metadata": {}
  },
  {
   "cell_type": "code",
   "execution_count": 4,
   "source": [
    "# solution 2:\n",
    "\n",
    "a = list(range(11))\n",
    "\n",
    "for i in a[::-1]:\n",
    "    print(i)"
   ],
   "outputs": [
    {
     "output_type": "stream",
     "name": "stdout",
     "text": [
      "10\n",
      "9\n",
      "8\n",
      "7\n",
      "6\n",
      "5\n",
      "4\n",
      "3\n",
      "2\n",
      "1\n",
      "0\n"
     ]
    }
   ],
   "metadata": {}
  },
  {
   "cell_type": "code",
   "execution_count": 12,
   "source": [
    "# solution 3 (using while loop):\n",
    "\n",
    "a = 10\n",
    "\n",
    "while a > -1:\n",
    "    print(a)\n",
    "    a -= 1"
   ],
   "outputs": [
    {
     "output_type": "stream",
     "name": "stdout",
     "text": [
      "10\n",
      "9\n",
      "8\n",
      "7\n",
      "6\n",
      "5\n",
      "4\n",
      "3\n",
      "2\n",
      "1\n",
      "0\n"
     ]
    }
   ],
   "metadata": {}
  },
  {
   "cell_type": "markdown",
   "source": [
    "## Loops (FOR-LOOP):\n",
    "\n",
    "- Question 5 (Multiplication Table):\n",
    "    - Step 1: Create 2 lists with integers from 1 to 9\n",
    "    - Step 2: Create 2 \"nested for loops\" to print a multiplication table<br>\n",
    "<br>\n",
    "  - The result should look like this:<br>\n",
    "      &rarr; 1 x 1 = 1 <br>\n",
    "      &emsp; 1 x 2 = 2<br>\n",
    "      &emsp; 1 x 3 = 3<br>\n",
    "      &emsp; 1 x 4 = 4<br>\n",
    "      &emsp; ...<br>\n",
    "      &emsp; 9 x 9 = 81<br>"
   ],
   "metadata": {}
  },
  {
   "cell_type": "code",
   "execution_count": 14,
   "source": [
    "m = list(range(1, 10))\n",
    "n = m[:]\n",
    "\n",
    "for i in m:\n",
    "    for j in n:\n",
    "        print(f\"{i} x {j} = {i*j}\")"
   ],
   "outputs": [
    {
     "output_type": "stream",
     "name": "stdout",
     "text": [
      "1 x 1 = 1\n",
      "1 x 2 = 2\n",
      "1 x 3 = 3\n",
      "1 x 4 = 4\n",
      "1 x 5 = 5\n",
      "1 x 6 = 6\n",
      "1 x 7 = 7\n",
      "1 x 8 = 8\n",
      "1 x 9 = 9\n",
      "2 x 1 = 2\n",
      "2 x 2 = 4\n",
      "2 x 3 = 6\n",
      "2 x 4 = 8\n",
      "2 x 5 = 10\n",
      "2 x 6 = 12\n",
      "2 x 7 = 14\n",
      "2 x 8 = 16\n",
      "2 x 9 = 18\n",
      "3 x 1 = 3\n",
      "3 x 2 = 6\n",
      "3 x 3 = 9\n",
      "3 x 4 = 12\n",
      "3 x 5 = 15\n",
      "3 x 6 = 18\n",
      "3 x 7 = 21\n",
      "3 x 8 = 24\n",
      "3 x 9 = 27\n",
      "4 x 1 = 4\n",
      "4 x 2 = 8\n",
      "4 x 3 = 12\n",
      "4 x 4 = 16\n",
      "4 x 5 = 20\n",
      "4 x 6 = 24\n",
      "4 x 7 = 28\n",
      "4 x 8 = 32\n",
      "4 x 9 = 36\n",
      "5 x 1 = 5\n",
      "5 x 2 = 10\n",
      "5 x 3 = 15\n",
      "5 x 4 = 20\n",
      "5 x 5 = 25\n",
      "5 x 6 = 30\n",
      "5 x 7 = 35\n",
      "5 x 8 = 40\n",
      "5 x 9 = 45\n",
      "6 x 1 = 6\n",
      "6 x 2 = 12\n",
      "6 x 3 = 18\n",
      "6 x 4 = 24\n",
      "6 x 5 = 30\n",
      "6 x 6 = 36\n",
      "6 x 7 = 42\n",
      "6 x 8 = 48\n",
      "6 x 9 = 54\n",
      "7 x 1 = 7\n",
      "7 x 2 = 14\n",
      "7 x 3 = 21\n",
      "7 x 4 = 28\n",
      "7 x 5 = 35\n",
      "7 x 6 = 42\n",
      "7 x 7 = 49\n",
      "7 x 8 = 56\n",
      "7 x 9 = 63\n",
      "8 x 1 = 8\n",
      "8 x 2 = 16\n",
      "8 x 3 = 24\n",
      "8 x 4 = 32\n",
      "8 x 5 = 40\n",
      "8 x 6 = 48\n",
      "8 x 7 = 56\n",
      "8 x 8 = 64\n",
      "8 x 9 = 72\n",
      "9 x 1 = 9\n",
      "9 x 2 = 18\n",
      "9 x 3 = 27\n",
      "9 x 4 = 36\n",
      "9 x 5 = 45\n",
      "9 x 6 = 54\n",
      "9 x 7 = 63\n",
      "9 x 8 = 72\n",
      "9 x 9 = 81\n"
     ]
    }
   ],
   "metadata": {}
  },
  {
   "cell_type": "markdown",
   "source": [
    "## Loops (WHILE-LOOP):\n",
    "\n",
    "- Question 6 (Print Current Number):\n",
    "  - Step 1: Name a variable called \"current_num\" with a value equal to 1\n",
    "  - Step 2: Create a \"while loop\" to print the variable \"current_num\" and then add 1 into this variable in each loop\n",
    "  - Note: print out integers from 1-10 <br>\n",
    "<br>\n",
    "  - The result should look like this:<br>\n",
    "      &rarr; 1<br>\n",
    "      &emsp; 2<br>\n",
    "      &emsp; 3<br>\n",
    "      &emsp; 4<br>\n",
    "      &emsp; 5<br>\n",
    "      &emsp; 6<br>\n",
    "      &emsp; 7<br>\n",
    "      &emsp; 8<br>\n",
    "      &emsp; 9<br>\n",
    "      &emsp; 10<br>"
   ],
   "metadata": {}
  },
  {
   "cell_type": "code",
   "execution_count": 15,
   "source": [
    "current_num = 1\n",
    "\n",
    "while current_num <= 10:\n",
    "    print(current_num)\n",
    "    current_num += 1"
   ],
   "outputs": [
    {
     "output_type": "stream",
     "name": "stdout",
     "text": [
      "1\n",
      "2\n",
      "3\n",
      "4\n",
      "5\n",
      "6\n",
      "7\n",
      "8\n",
      "9\n",
      "10\n"
     ]
    }
   ],
   "metadata": {}
  },
  {
   "cell_type": "markdown",
   "source": [
    "## Loops (WHILE-LOOP):\n",
    "\n",
    "- Question 7 (Fruits):\n",
    "  - Step 1: Create a list named \"fruits\" and assign 5 fruits in this list\n",
    "  - Step 2: Create an empty list named \"basket\"\n",
    "  - Step 3: Create a \"while loop\" to append all the elements in \"fruits\" list into \"basket\" list\n",
    "  - Step 4: print \"basket\" list in the end<br>\n",
    "<br>\n",
    "  - The result should look like this:<br>\n",
    "      &rarr; Here is the basket list: ['avocado', 'guava', 'mango', 'peach', 'apple']"
   ],
   "metadata": {}
  },
  {
   "cell_type": "code",
   "execution_count": 3,
   "source": [
    "fruits = ['apple', 'peach', 'mango', 'guava', 'avocado']\n",
    "basket = []\n",
    "\n",
    "while len(fruits) > 0:\n",
    "    fruit = fruits.pop()\n",
    "    basket.append(fruit)\n",
    "\n",
    "print(f\"Here is the basket list: {basket}\")"
   ],
   "outputs": [
    {
     "output_type": "stream",
     "name": "stdout",
     "text": [
      "Here is the basket list: ['avocado', 'guava', 'mango', 'peach', 'apple']\n"
     ]
    }
   ],
   "metadata": {}
  },
  {
   "cell_type": "markdown",
   "source": [
    "## FOR LOOP + Conditional Statements:\n",
    "\n",
    "- Question 8 (Palindrome):\n",
    "- A palindrome can be read the same in reversed order. <br>\n",
    "Can you write a \"for loop\" with an \"if-else statement\" to check <br>\n",
    "whether a word in the following list is palindrome or not? <br>\n",
    "If it is a palindrome, print a message and say it is a palindrome or not.\n",
    "- Create a list with 'civic', 'data', 'radar', 'science', 'madam' these 5 words as elements<br>\n",
    "<br>\n",
    "- The result should look like this:<br>\n",
    "    &rarr; civic is a palindrome!<br>\n",
    "    &emsp; data is NOT a palindrome!<br>\n",
    "    &emsp; radar is a palindrome!<br>\n",
    "    &emsp; science is NOT a palindrome!<br>\n",
    "    &emsp; madam is a palindrome!<br>\n",
    "      "
   ],
   "metadata": {}
  },
  {
   "cell_type": "code",
   "execution_count": 8,
   "source": [
    "word_lst = ['civic', 'data', 'radar', 'science', 'madam']\n",
    "\n",
    "for word in word_lst:\n",
    "    if word == word[::-1]:\n",
    "        print(f\"{word} is a palindrome!\")\n",
    "    else:\n",
    "        print(f\"{word} is NOT a palindrome!\")"
   ],
   "outputs": [
    {
     "output_type": "stream",
     "name": "stdout",
     "text": [
      "civic is a palindrome!\n",
      "data is NOT a palindrome!\n",
      "radar is a palindrome!\n",
      "science is NOT a palindrome!\n",
      "madam is a palindrome!\n"
     ]
    }
   ],
   "metadata": {}
  },
  {
   "cell_type": "markdown",
   "source": [
    "## While LOOP + Conditional Statements:\n",
    "\n",
    "- Question 9 (Generate multiples of 5):\n",
    "    - Step 1: Create an empty list called \"multiples_5\"\n",
    "    - Step 2: Create a variable called 'counter' and assign an integer 0 to it\n",
    "    - Step 3: Create a \"while loop\" with \"if-else statement\" to append 4 multiples of 5 into the \"multiples_5\" list if the value of the counter is a multiple of 5\n",
    "    - Step 4: print the \"multiples_5\" in the end\n",
    "    - Note: The first element of \"multiples_5\" list is not 0. It should be 5.<br>\n",
    "<br>\n",
    "  - The result should look like this:<br>\n",
    "      &rarr; Here is the multiples_5 list: [5, 10, 15, 20]\n",
    "\n"
   ],
   "metadata": {}
  },
  {
   "cell_type": "code",
   "execution_count": 4,
   "source": [
    "multiples_5 = []\n",
    "\n",
    "counter = 0\n",
    "while len(multiples_5) < 4:\n",
    "    counter += 1\n",
    "    if counter % 5 != 0:\n",
    "        continue\n",
    "    else:\n",
    "        multiples_5.append(counter)\n",
    "\n",
    "print(f\"Here is the multiples_5 list: {multiples_5}\")"
   ],
   "outputs": [
    {
     "output_type": "stream",
     "name": "stdout",
     "text": [
      "Here is the multiples_5 list: [5, 10, 15, 20]\n"
     ]
    }
   ],
   "metadata": {}
  },
  {
   "cell_type": "markdown",
   "source": [
    "## Conditional Statements + Loops:\n",
    "\n",
    "- Question 10-1:\n",
    "    - Both Fernando Alonso and Lewis Hamilton are F1 drivers. Create 2 variables to store these 2 drivers' names seperately <br>\n",
    "      and find the common letters in their names and show them in a list. ex: ['a', 'e']\n",
    "    - Note: The elements inside the list should not duplicate. ex: ['a', 'a', 'e', 'i', 'i'] is not allowed. It should be ['a', 'e', 'i'].\n",
    "    - Note 1: This exercise can not use the set() function.<br>\n",
    "<br>\n",
    "  - The result should look like this:<br>\n",
    "      &rarr; Here is the list of common letters: ['e', 'n', 'a', 'o', ' ', 'l', 's']<br>\n",
    "<br>\n",
    "- Question 10-2:\n",
    "    - You and your friends are going to see a movie and here is the price list:\n",
    "        - if the age of a person is under 3, then the ticket is free\n",
    "        - if the age of a person is between 3 and 12, then the ticket is $10\n",
    "        - if the age of a person is over 12, then the ticket is $15\n",
    "            - Write a \"while loop\" to ask a person's age and show them the price of a ticket<br>\n",
    "<br>\n",
    "  - The result should look like this:<br>\n",
    "      &rarr; Your age: 28; Your ticket price is 15!<br>\n",
    "      &emsp; Your age: 10; Your ticket price is 10!<br>\n",
    "      &emsp; Your age: 2; Your ticket price is free!"
   ],
   "metadata": {}
  },
  {
   "cell_type": "code",
   "execution_count": 9,
   "source": [
    "# solution of 10-1:\n",
    "\n",
    "driver1 = 'fernando alonso'\n",
    "driver2 = 'lewis hamilton'\n",
    "common_letters = []\n",
    "\n",
    "for i in driver1:\n",
    "    if (i in driver2) and not (i in common_letters):\n",
    "        common_letters.append(i)\n",
    "\n",
    "f\"Here is the list of common letters: {common_letters}\""
   ],
   "outputs": [
    {
     "output_type": "execute_result",
     "data": {
      "text/plain": [
       "\"Here is the list of common letters: ['e', 'n', 'a', 'o', ' ', 'l', 's']\""
      ]
     },
     "metadata": {},
     "execution_count": 9
    }
   ],
   "metadata": {}
  },
  {
   "cell_type": "code",
   "execution_count": 10,
   "source": [
    "# solution of 10-2:\n",
    "\n",
    "prompt = \"Enter your age and I'll tell you the ticket price.\"\n",
    "prompt += \"\\n(Enter 'quit' when you finish.)\"\n",
    "\n",
    "while True:\n",
    "\n",
    "    age = input(prompt)\n",
    "\n",
    "    if age == 'quit':\n",
    "        break\n",
    "    else:\n",
    "        if int(age) < 3:\n",
    "            print(f\"Your age: {age}; Your ticket price is free!\")\n",
    "        elif int(age) < 12:\n",
    "            print(f\"Your age: {age}; Your ticket price is 10!\")\n",
    "        else:\n",
    "            print(f\"Your age: {age}; Your ticket price is 15!\")"
   ],
   "outputs": [
    {
     "output_type": "stream",
     "name": "stdout",
     "text": [
      "Your age: 28; Your ticket price is 15!\n",
      "Your age: 18; Your ticket price is 15!\n",
      "Your age: 12; Your ticket price is 15!\n",
      "Your age: 10; Your ticket price is 10!\n",
      "Your age: 3; Your ticket price is 10!\n",
      "Your age: 2; Your ticket price is free!\n"
     ]
    }
   ],
   "metadata": {}
  },
  {
   "cell_type": "code",
   "execution_count": null,
   "source": [],
   "outputs": [],
   "metadata": {}
  }
 ],
 "metadata": {
  "orig_nbformat": 4,
  "language_info": {
   "name": "python",
   "version": "3.8.5",
   "mimetype": "text/x-python",
   "codemirror_mode": {
    "name": "ipython",
    "version": 3
   },
   "pygments_lexer": "ipython3",
   "nbconvert_exporter": "python",
   "file_extension": ".py"
  },
  "kernelspec": {
   "name": "python3",
   "display_name": "Python 3.8.5 64-bit ('base': conda)"
  },
  "interpreter": {
   "hash": "0c2a3eb2b4bb7385d62df44902d8a819643fb968efd7b2f0d85bc574e8a1e85b"
  }
 },
 "nbformat": 4,
 "nbformat_minor": 2
}