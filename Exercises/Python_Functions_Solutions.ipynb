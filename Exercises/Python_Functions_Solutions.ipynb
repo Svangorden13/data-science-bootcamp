{
 "cells": [
  {
   "cell_type": "markdown",
   "source": [
    "## Functions (without input parameters):\n",
    "\n",
    "- Question 1:\n",
    "    - Can you write a function and inside the function, \"print\" a message, \"The latest version of Python is 3.11.0\"? Then, call this function to show the message.\n",
    "        - The result should look like this:<br>\n",
    "            &rarr; The latest Python version is 3.11.0\n",
    "    - Can you write a function and \"return\" a message, \"The latest version of Python is 3.11.0\"? Then, call this function to show the message.\n",
    "        - The result should look like this: <br>\n",
    "            &rarr; 'The latest Python version is 3.11.0'"
   ],
   "metadata": {}
  },
  {
   "cell_type": "code",
   "execution_count": 2,
   "source": [
    "def py_version_print():\n",
    "    \"\"\"This function is to print a message of latest Python version\"\"\"\n",
    "    \n",
    "    print(\"The latest Python version is 3.11.0\")\n",
    "\n",
    "py_version_print()"
   ],
   "outputs": [
    {
     "output_type": "stream",
     "name": "stdout",
     "text": [
      "The latest Python version is 3.11.0\n"
     ]
    }
   ],
   "metadata": {}
  },
  {
   "cell_type": "code",
   "execution_count": 3,
   "source": [
    "def py_version_return():\n",
    "    \"\"\"This function is to return a message of latest Python version\"\"\"\n",
    "    \n",
    "    return \"The latest Python version is 3.11.0\"\n",
    "\n",
    "py_version_return()"
   ],
   "outputs": [
    {
     "output_type": "execute_result",
     "data": {
      "text/plain": [
       "'The latest Python version is 3.11.0'"
      ]
     },
     "metadata": {},
     "execution_count": 3
    }
   ],
   "metadata": {}
  },
  {
   "cell_type": "markdown",
   "source": [
    "## Functions (with an input parameter):\n",
    "\n",
    "- Question 2: \n",
    "    - Can you write a function to square all the elements in a list called \"nums\" and return a list of squared numbers? Call this function to show the result.\n",
    "        - nums = [1, 3, 5, 7, 9, 11]\n",
    "        - The result should look like this:<br>\n",
    "            &rarr; [1, 9, 25, 49, 81, 121]\n",
    "    - From the result above, can you assign a new variable to the return value from this function and print the new variable?\n",
    "        - The result should look like this: <br>\n",
    "            &rarr; Here is the list of squared numbers: [1, 9, 25, 49, 81, 121]\n"
   ],
   "metadata": {}
  },
  {
   "cell_type": "code",
   "execution_count": 4,
   "source": [
    "nums = [1, 3, 5, 7, 9, 11]\n",
    "\n",
    "def sqr_lst(nums):\n",
    "    \"\"\"This function is to return a list of squared numbers.\"\"\"\n",
    "    \n",
    "    sqr_lst = []\n",
    "    for i in nums:\n",
    "        sqr_lst.append(i**2)\n",
    "        \n",
    "    return sqr_lst\n",
    "\n",
    "sqr_lst(nums)"
   ],
   "outputs": [
    {
     "output_type": "execute_result",
     "data": {
      "text/plain": [
       "[1, 9, 25, 49, 81, 121]"
      ]
     },
     "metadata": {},
     "execution_count": 4
    }
   ],
   "metadata": {}
  },
  {
   "cell_type": "code",
   "execution_count": 8,
   "source": [
    "nums_sqr_list = sqr_lst(nums)\n",
    "print(f\"Here is the list of squared numbers: {nums_sqr_list}\")"
   ],
   "outputs": [
    {
     "output_type": "stream",
     "name": "stdout",
     "text": [
      "Here is the list of squared numbers: [1, 9, 25, 49, 81, 121]\n"
     ]
    }
   ],
   "metadata": {}
  },
  {
   "cell_type": "markdown",
   "source": [
    "## Functions (with positional arguments):\n",
    "\n",
    "- Question 3: \n",
    "    - Write a function with 2 input parameters, one is to store the car make information and the other is to store the car model information. <br>\n",
    "      And the function will return a message like this: 'I have a Mazda car and the model is Miata.'<br>\n",
    "    - Call the function again, but this time, put your car model information as the first argument, and the car make information as the second argument and see what will happen.\n",
    "      - The result should look like this:<br>\n",
    "        &rarr; 'I have a Miata car and the model is Mazda.'"
   ],
   "metadata": {}
  },
  {
   "cell_type": "code",
   "execution_count": 9,
   "source": [
    "def describe_car(car_make, car_model):\n",
    "    \"\"\"This function is to show a car's information\"\"\"\n",
    "    \n",
    "    return f\"I have a {car_make.title()} car and the model is {car_model.title()}.\"\n",
    "\n",
    "describe_car(\"mazda\", \"miata\")"
   ],
   "outputs": [
    {
     "output_type": "execute_result",
     "data": {
      "text/plain": [
       "'I have a Mazda car and the model is Miata.'"
      ]
     },
     "metadata": {},
     "execution_count": 9
    }
   ],
   "metadata": {}
  },
  {
   "cell_type": "code",
   "execution_count": 15,
   "source": [
    "describe_car(\"miata\", \"mazda\")"
   ],
   "outputs": [
    {
     "output_type": "execute_result",
     "data": {
      "text/plain": [
       "'I have a Miata car and the model is Mazda.'"
      ]
     },
     "metadata": {},
     "execution_count": 15
    }
   ],
   "metadata": {}
  },
  {
   "cell_type": "markdown",
   "source": [
    "## Functions (with keyword arguments):\n",
    "\n",
    "- Question 4: \n",
    "    - Write a function with 2 input parameters, one is called 'animal_type', the other is called 'pet_name.'\n",
    "    - Assign 2 values to these 2 input parameters as arguments\n",
    "    - Return a message in the end of the function, like 'I have a dog and the name is Wish.'<br>\n",
    "<br>\n",
    "    - Call this function with 2 ways and see is there any differences.\n",
    "        - First, let's say the function name is called 'pet()', then call this function like this: pet(animal_type = 'dog', pet_name = 'wish')\n",
    "            - The result should look like this:<br>\n",
    "                &rarr; 'I have a dog and the name is Wish.'\n",
    "        - Second, call this function like this (switch parameters positions): pet(pet_name = 'wish', animal_type = 'dog') \n",
    "            - The result should look like this:<br>\n",
    "                &rarr; 'I have a dog and the name is Wish.'"
   ],
   "metadata": {}
  },
  {
   "cell_type": "code",
   "execution_count": 12,
   "source": [
    "def describe_pet(animal_type = 'dog', pet_name = 'wish'):\n",
    "    \"\"\"This function is to describe a pet's information.\"\"\"\n",
    "    \n",
    "    return f\"I have a {animal_type} and the name is {pet_name.title()}.\"\n"
   ],
   "outputs": [],
   "metadata": {}
  },
  {
   "cell_type": "code",
   "execution_count": 13,
   "source": [
    "describe_pet(animal_type = 'dog', pet_name = 'wish')"
   ],
   "outputs": [
    {
     "output_type": "execute_result",
     "data": {
      "text/plain": [
       "'I have a dog and the name is Wish.'"
      ]
     },
     "metadata": {},
     "execution_count": 13
    }
   ],
   "metadata": {}
  },
  {
   "cell_type": "code",
   "execution_count": 14,
   "source": [
    "describe_pet(pet_name = 'wish', animal_type = 'dog')"
   ],
   "outputs": [
    {
     "output_type": "execute_result",
     "data": {
      "text/plain": [
       "'I have a dog and the name is Wish.'"
      ]
     },
     "metadata": {},
     "execution_count": 14
    }
   ],
   "metadata": {}
  },
  {
   "cell_type": "markdown",
   "source": [
    "## Functions (overwrite keyword arguments):\n",
    "\n",
    "- Question 5: \n",
    "    - Call the function from Question 4, overwrite the arguments for both \"animal_type\" and \"pet_name\" parameters\n",
    "    - The result should look like this:<br>\n",
    "        &rarr; 'I have a cat and the name is Noodle.'"
   ],
   "metadata": {}
  },
  {
   "cell_type": "code",
   "execution_count": 17,
   "source": [
    "describe_pet(animal_type = 'cat', pet_name = 'noodle')"
   ],
   "outputs": [
    {
     "output_type": "execute_result",
     "data": {
      "text/plain": [
       "'I have a cat and the name is Noodle.'"
      ]
     },
     "metadata": {},
     "execution_count": 17
    }
   ],
   "metadata": {}
  },
  {
   "cell_type": "markdown",
   "source": [
    "## Functions (with default values):\n",
    "\n",
    "- Question 6:\n",
    "    - Write a function with 2 paratmers, one is  called \"hobby\" and the other is called \"state\" with a default value \"CA\"\n",
    "    - Return a message like this: 'My hobby is hiking and I live in CA.'<br>\n",
    "<br>\n",
    "    - Call this function to see the message\n",
    "        - The result will be like this: <br>\n",
    "            &rarr; 'My hobby is hiking and I live in CA.'\n",
    "    - Call this function again, but overwrite the default value from 'CA' to 'AZ'\n",
    "        - The result will be like this: <br>\n",
    "            &rarr; 'My hobby is hiking and I live in AZ.'"
   ],
   "metadata": {}
  },
  {
   "cell_type": "code",
   "execution_count": 18,
   "source": [
    "def personal_info(hobby, state = 'CA'):\n",
    "    \"\"\"This function is to describe a person's info.\"\"\"\n",
    "    \n",
    "    return f\"My hobby is {hobby} and I live in {state}.\""
   ],
   "outputs": [],
   "metadata": {}
  },
  {
   "cell_type": "code",
   "execution_count": 19,
   "source": [
    "personal_info('hiking')"
   ],
   "outputs": [
    {
     "output_type": "execute_result",
     "data": {
      "text/plain": [
       "'My hobby is hiking and I live in CA.'"
      ]
     },
     "metadata": {},
     "execution_count": 19
    }
   ],
   "metadata": {}
  },
  {
   "cell_type": "code",
   "execution_count": 20,
   "source": [
    "personal_info('hiking', state = 'AZ')"
   ],
   "outputs": [
    {
     "output_type": "execute_result",
     "data": {
      "text/plain": [
       "'My hobby is hiking and I live in AZ.'"
      ]
     },
     "metadata": {},
     "execution_count": 20
    }
   ],
   "metadata": {}
  },
  {
   "cell_type": "markdown",
   "source": [
    "## Functions (with arbitrary arguments):\n",
    "\n",
    "- Question 7:\n",
    "    - Write a funciton to sum arbitrary arguments (numerical values only) and return the summation in the end.\n",
    "    - For example, this function is called \"find_sum()\" and we pass arbitrary arguments like this, \"find_sum(2, 3, 4, 5, 6, 7, 8.8)\"<br>\n",
    "      Then, the result will show the summation which is \"35.8.\"\n",
    "      - the other example: \"find_sum(2, 3, 4, 5, 6, 7)\" and the result will return \"27.\"\n",
    "    - Note: The built-in \"sum()\" function can not be used for the summation in this exercise.\n"
   ],
   "metadata": {}
  },
  {
   "cell_type": "code",
   "execution_count": 21,
   "source": [
    "def find_sum(*nums):\n",
    "    \"\"\"This function is to sum all the input numbers and return the summation.\"\"\"\n",
    "    \n",
    "    total = 0\n",
    "    for num in nums:\n",
    "        total += num\n",
    "    \n",
    "    return total"
   ],
   "outputs": [],
   "metadata": {}
  },
  {
   "cell_type": "code",
   "execution_count": 22,
   "source": [
    "find_sum(2, 3, 4, 5, 6, 7)"
   ],
   "outputs": [
    {
     "output_type": "execute_result",
     "data": {
      "text/plain": [
       "27"
      ]
     },
     "metadata": {},
     "execution_count": 22
    }
   ],
   "metadata": {}
  },
  {
   "cell_type": "code",
   "execution_count": 25,
   "source": [
    "find_sum(2, 3, 4, 5, 6, 7, 8.8)"
   ],
   "outputs": [
    {
     "output_type": "execute_result",
     "data": {
      "text/plain": [
       "35.8"
      ]
     },
     "metadata": {},
     "execution_count": 25
    }
   ],
   "metadata": {}
  },
  {
   "cell_type": "markdown",
   "source": [
    "## Functions (with arbitrary keyword arguments):\n",
    "\n",
    "- Question 8:\n",
    "    - Write a function with arbitrary keyword arguments to show 2 basic information about an image.<br>\n",
    "      One is the pixel dimension and the other is the quantity of color channels.\n",
    "    - ex: The pixel dimension can be (1080, 720) or (1920, 1080)\n",
    "    - ex: If an image is greyscale, then the quantity of color channels will be \"1\" and if it is a color image, the quantity of color channels will be \"3\"<br>\n",
    "<br>\n",
    "    - Inside the function, show the image information by using a \"for loop\" and printing the keyword arguments\n",
    "    - The result should look like this:<br>\n",
    "      &rarr; Here is the info of an image, pixel_dimension: (1080, 720)<br>\n",
    "      &emsp; Here is the info of an image, color_channel: 3"
   ],
   "metadata": {}
  },
  {
   "cell_type": "code",
   "execution_count": 44,
   "source": [
    "def img_info(**kwargs):\n",
    "    \"\"\"This function is to show the basic info of an image.\"\"\"\n",
    "    \n",
    "    for k, v in kwargs.items():\n",
    "        print(f\"Here is the info of an image, {k}: {v}\")"
   ],
   "outputs": [],
   "metadata": {}
  },
  {
   "cell_type": "code",
   "execution_count": 45,
   "source": [
    "img_info(pixel_dimension = (1080, 720), color_channel = 3)"
   ],
   "outputs": [
    {
     "output_type": "stream",
     "name": "stdout",
     "text": [
      "Here is the info of an image, pixel_dimension: (1080, 720)\n",
      "Here is the info of an image, color_channel: 3\n"
     ]
    }
   ],
   "metadata": {}
  },
  {
   "cell_type": "markdown",
   "source": [
    "## Functions (Call functions inside a function):\n",
    "\n",
    "- Question 9:\n",
    "    - Step 1: Write a function to calculate the circumference of a circle, <br>\n",
    "            &emsp;with a parameter called \"radius\" and the other parameter called \"pi\" with a default value \"3.14\" and return the circumference in the end of the function.<br>\n",
    "<br>\n",
    "    - Step 2: Write another function to calculate the area of a circle, <br> \n",
    "            &emsp;with a parameter called \"radius\" and the other parameter called \"pi\" with a default value \"3.14\" and return the area in the end of the function.<br>\n",
    "<br>\n",
    "    - Step 3: Write another function to show the circumference and area of a circle, <br>\n",
    "            &emsp;with a parameter called \"radius\" and inside the function, you'll do the following actions:\n",
    "        - call the function from Step 1, and assign a variable to the return value\n",
    "        - call the function from Step 2, and assign a variable to the return value\n",
    "        - append the circumference and area into a dictionary and return this dictionary in the end\n",
    "            - The result should look like this (with radius = 4):<br>\n",
    "                &rarr; {'circumference': 25.12, 'area': 50.24}"
   ],
   "metadata": {}
  },
  {
   "cell_type": "code",
   "execution_count": 46,
   "source": [
    "def get_circumference(radius, pi = 3.14):\n",
    "    \"\"\"This funciton is to get the circumference of a circle.\"\"\"\n",
    "    \n",
    "    return 2*pi*radius\n",
    "    "
   ],
   "outputs": [],
   "metadata": {}
  },
  {
   "cell_type": "code",
   "execution_count": 47,
   "source": [
    "def get_area(radius, pi = 3.14):\n",
    "    \"\"\"This funciton is to get the area of a circle.\"\"\"\n",
    "     \n",
    "    return pi*radius**2\n",
    "    "
   ],
   "outputs": [],
   "metadata": {}
  },
  {
   "cell_type": "code",
   "execution_count": 53,
   "source": [
    "def circle_info(radius):\n",
    "    \"\"\"This funciton is to show the information of a circle.\"\"\"\n",
    "    \n",
    "    circle = {}\n",
    "    circumference = get_circumference(radius, pi = 3.14)\n",
    "    area = get_area(radius)\n",
    "    \n",
    "    circle['circumference'] = circumference\n",
    "    circle['area'] = area\n",
    "    \n",
    "    return circle\n",
    "    "
   ],
   "outputs": [],
   "metadata": {}
  },
  {
   "cell_type": "code",
   "execution_count": 54,
   "source": [
    "circle_info(4)"
   ],
   "outputs": [
    {
     "output_type": "execute_result",
     "data": {
      "text/plain": [
       "{'circumference': 25.12, 'area': 50.24}"
      ]
     },
     "metadata": {},
     "execution_count": 54
    }
   ],
   "metadata": {}
  },
  {
   "cell_type": "markdown",
   "source": [
    "## Functions:\n",
    "\n",
    "- Question 10:\n",
    "    - Write a function to get y-value from a linear equation (y = mx + b), with 3 parameters: x, slope, y_intercept (do not change the order) and return y-value in the end<br>\n",
    "<br>\n",
    "    - Call the function with positional arguments (ex: linear_eq(5, 3, -8.5))\n",
    "        - The result should look like this:<br>\n",
    "            &rarr; 6.5\n",
    "    - Call the function with keyword arguments, (ex: linear_eq(x = 2, slope = 6, y_intercept = 1.5))\n",
    "        - The result should look like this:<br>\n",
    "            &rarr; 13.5\n",
    "    - Call the function with keyword arguments, but put \"x\" paramter at the end (ex: linear_eq(slope = 6, y_intercept = 1.5, x = 2))\n",
    "        - The result should look like this:<br>\n",
    "            &rarr; 13.5\n"
   ],
   "metadata": {}
  },
  {
   "cell_type": "code",
   "execution_count": 60,
   "source": [
    "def linear_eq(x, slope, y_intercept):\n",
    "    \"\"\"This function is to get the y-value from the linear eq. y = mx + b\"\"\"\n",
    "    \n",
    "    return slope*x + y_intercept"
   ],
   "outputs": [],
   "metadata": {}
  },
  {
   "cell_type": "code",
   "execution_count": 56,
   "source": [
    "linear_eq(5, 3, -8.5)"
   ],
   "outputs": [
    {
     "output_type": "execute_result",
     "data": {
      "text/plain": [
       "6.5"
      ]
     },
     "metadata": {},
     "execution_count": 56
    }
   ],
   "metadata": {}
  },
  {
   "cell_type": "code",
   "execution_count": 58,
   "source": [
    "linear_eq(x = 2, slope = 6, y_intercept = 1.5)"
   ],
   "outputs": [
    {
     "output_type": "execute_result",
     "data": {
      "text/plain": [
       "13.5"
      ]
     },
     "metadata": {},
     "execution_count": 58
    }
   ],
   "metadata": {}
  },
  {
   "cell_type": "code",
   "execution_count": 59,
   "source": [
    "linear_eq(slope = 6, y_intercept = 1.5, x = 2)"
   ],
   "outputs": [
    {
     "output_type": "execute_result",
     "data": {
      "text/plain": [
       "13.5"
      ]
     },
     "metadata": {},
     "execution_count": 59
    }
   ],
   "metadata": {}
  },
  {
   "cell_type": "code",
   "execution_count": null,
   "source": [],
   "outputs": [],
   "metadata": {}
  }
 ],
 "metadata": {
  "orig_nbformat": 4,
  "language_info": {
   "name": "python",
   "version": "3.8.5",
   "mimetype": "text/x-python",
   "codemirror_mode": {
    "name": "ipython",
    "version": 3
   },
   "pygments_lexer": "ipython3",
   "nbconvert_exporter": "python",
   "file_extension": ".py"
  },
  "kernelspec": {
   "name": "python3",
   "display_name": "Python 3.8.5 64-bit ('base': conda)"
  },
  "interpreter": {
   "hash": "0c2a3eb2b4bb7385d62df44902d8a819643fb968efd7b2f0d85bc574e8a1e85b"
  }
 },
 "nbformat": 4,
 "nbformat_minor": 2
}