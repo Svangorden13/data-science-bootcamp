{
 "cells": [
  {
   "cell_type": "markdown",
   "source": [
    "## Conditional Statements (IF-Statements)\n",
    "\n",
    "- Question 1 (Checking Datatype):\n",
    "  - Step 1: Name a variable called \"breed\" and assign a breed name of dogs to this variable\n",
    "  - Step 2: Write an \"if statement\" to check if the type of this variable is a string and if it is, print a message, \"The data type of variable breed is string!\"<br>\n",
    "<br>\n",
    "  - The result should look like this:<br>\n",
    "      &rarr; The data type of variable breed is string!\n"
   ],
   "metadata": {}
  },
  {
   "cell_type": "code",
   "execution_count": null,
   "source": [],
   "outputs": [],
   "metadata": {}
  },
  {
   "cell_type": "markdown",
   "source": [
    "## Conditional Statements (IF-ELSE Statements)\n",
    "\n",
    "- Question 2 (Checking Odd/Even Number):\n",
    "  - Step 1: Name a variable called \"num\" and assign a positive integer to this variable\n",
    "  - Step 2: Write an \"if-else statement\" to test whether this number is even or odd. And print a message that this number is an even or odd number.<br>\n",
    "<br>\n",
    "  - The result should look like this:<br>\n",
    "      &rarr; 17 is an odd number!"
   ],
   "metadata": {}
  },
  {
   "cell_type": "code",
   "execution_count": null,
   "source": [],
   "outputs": [],
   "metadata": {}
  },
  {
   "cell_type": "markdown",
   "source": [
    "## Conditional Statements (IF-ELIF-ELSE)\n",
    "\n",
    "- Question 3 (Check Grade):\n",
    "  - Step 1: Name a variable called \"score\" and assign a positive integer to this variable\n",
    "  - Step 2: Write an \"if-elif-else chain\" to print a message of the letter grade: <br>\n",
    "  <br>\n",
    "            - \"A+\" if the score is at least 100 <br>\n",
    "            - \"A\" if the score is at least 90 and less than 100 <br>\n",
    "            - \"B\" if the score is at least 80 and less than 90 <br>\n",
    "            - \"C\" if the score is at least 70 and less than 80 <br>\n",
    "            - \"D\" if the score is at least 60 and less than 70 <br>\n",
    "            - \"F\" if the score is less than 60 <br>\n",
    "<br>\n",
    "  - The result should look like this:<br>\n",
    "      &rarr; For a score of 78 the grade is: C"
   ],
   "metadata": {}
  },
  {
   "cell_type": "code",
   "execution_count": null,
   "source": [],
   "outputs": [],
   "metadata": {}
  },
  {
   "cell_type": "markdown",
   "source": [
    "## Loops (FOR-LOOP):\n",
    "\n",
    "- Question 4 (Print Integers In Reversed Order):\n",
    "    - Step 1: Create a \"for loop\" to print integers in reversed order, starting from 10 and ending at 0.<br>\n",
    "<br>\n",
    "  - The result should look like this:<br>\n",
    "      &rarr; 10 <br>\n",
    "      &emsp; 9<br>\n",
    "      &emsp; 8<br>\n",
    "      &emsp; 7<br>\n",
    "      &emsp; 6<br>\n",
    "      &emsp; 5<br>\n",
    "      &emsp; 4<br>\n",
    "      &emsp; 3<br>\n",
    "      &emsp; 2<br>\n",
    "      &emsp; 1<br>\n",
    "      &emsp; 0<br>"
   ],
   "metadata": {}
  },
  {
   "cell_type": "code",
   "execution_count": null,
   "source": [],
   "outputs": [],
   "metadata": {}
  },
  {
   "cell_type": "markdown",
   "source": [
    "## Loops (FOR-LOOP):\n",
    "\n",
    "- Question 5 (Multiplication Table):\n",
    "    - Step 1: Create 2 lists with integers from 1 to 9\n",
    "    - Step 2: Create 2 \"nested for loops\" to print a multiplication table<br>\n",
    "<br>\n",
    "  - The result should look like this:<br>\n",
    "      &rarr; 1 x 1 = 1 <br>\n",
    "      &emsp; 1 x 2 = 2<br>\n",
    "      &emsp; 1 x 3 = 3<br>\n",
    "      &emsp; 1 x 4 = 4<br>\n",
    "      &emsp; ...<br>\n",
    "      &emsp; 9 x 9 = 81<br>"
   ],
   "metadata": {}
  },
  {
   "cell_type": "code",
   "execution_count": null,
   "source": [],
   "outputs": [],
   "metadata": {}
  },
  {
   "cell_type": "markdown",
   "source": [
    "## Loops (WHILE-LOOP):\n",
    "\n",
    "- Question 6 (Print Current Number):\n",
    "  - Step 1: Name a variable called \"current_num\" with a value equal to 1\n",
    "  - Step 2: Create a \"while loop\" to print the variable \"current_num\" and then add 1 into this variable in each loop\n",
    "  - Note: print out integers from 1-10 <br>\n",
    "<br>\n",
    "  - The result should look like this:<br>\n",
    "      &rarr; 1<br>\n",
    "      &emsp; 2<br>\n",
    "      &emsp; 3<br>\n",
    "      &emsp; 4<br>\n",
    "      &emsp; 5<br>\n",
    "      &emsp; 6<br>\n",
    "      &emsp; 7<br>\n",
    "      &emsp; 8<br>\n",
    "      &emsp; 9<br>\n",
    "      &emsp; 10<br>"
   ],
   "metadata": {}
  },
  {
   "cell_type": "code",
   "execution_count": null,
   "source": [],
   "outputs": [],
   "metadata": {}
  },
  {
   "cell_type": "markdown",
   "source": [
    "## Loops (WHILE-LOOP):\n",
    "\n",
    "- Question 7 (Fruits):\n",
    "  - Step 1: Create a list named \"fruits\" and assign 5 fruits in this list\n",
    "  - Step 2: Create an empty list named \"basket\"\n",
    "  - Step 3: Create a \"while loop\" to append all the elements in \"fruits\" list into \"basket\" list\n",
    "  - Step 4: print \"basket\" list in the end<br>\n",
    "<br>\n",
    "  - The result should look like this:<br>\n",
    "      &rarr; Here is the basket list: ['avocado', 'guava', 'mango', 'peach', 'apple']"
   ],
   "metadata": {}
  },
  {
   "cell_type": "code",
   "execution_count": null,
   "source": [],
   "outputs": [],
   "metadata": {}
  },
  {
   "cell_type": "markdown",
   "source": [
    "## FOR LOOP + Conditional Statements:\n",
    "\n",
    "- Question 8 (Palindrome):\n",
    "- A palindrome can be read the same in reversed order. <br>\n",
    "Can you write a \"for loop\" with an \"if-else statement\" to check <br>\n",
    "whether a word in the following list is palindrome or not? <br>\n",
    "If it is a palindrome, print a message and say it is a palindrome or not.\n",
    "- Create a list with 'civic', 'data', 'radar', 'science', 'madam' these 5 words as elements<br>\n",
    "<br>\n",
    "- The result should look like this:<br>\n",
    "    &rarr; civic is a palindrome!<br>\n",
    "    &emsp; data is NOT a palindrome!<br>\n",
    "    &emsp; radar is a palindrome!<br>\n",
    "    &emsp; science is NOT a palindrome!<br>\n",
    "    &emsp; madam is a palindrome!<br>"
   ],
   "metadata": {}
  },
  {
   "cell_type": "code",
   "execution_count": null,
   "source": [],
   "outputs": [],
   "metadata": {}
  },
  {
   "cell_type": "markdown",
   "source": [
    "## While LOOP + Conditional Statements:\n",
    "\n",
    "- Question 9 (Generate multiples of 5):\n",
    "    - Step 1: Create an empty list called \"multiples_5\"\n",
    "    - Step 2: Create a variable called 'counter' and assign an integer 0 to it\n",
    "    - Step 3: Create a \"while loop\" with \"if-else statement\" to append 4 multiples of 5 into the \"multiples_5\" list if the value of the counter is a multiple of 5\n",
    "    - Step 4: print the \"multiples_5\" in the end\n",
    "    - Note: The first element of \"multiples_5\" list is not 0. It should be 5.<br>\n",
    "<br>\n",
    "  - The result should look like this:<br>\n",
    "      &rarr; Here is the multiples_5 list: [5, 10, 15, 20]\n"
   ],
   "metadata": {}
  },
  {
   "cell_type": "code",
   "execution_count": null,
   "source": [],
   "outputs": [],
   "metadata": {}
  },
  {
   "cell_type": "markdown",
   "source": [
    "## Conditional Statements + Loops:\n",
    "\n",
    "- Question 10-1:\n",
    "    - Both Fernando Alonso and Lewis Hamilton are F1 drivers. Create 2 variables to store these 2 drivers' names seperately <br>\n",
    "      and find the common letters in their names and show them in a list. ex: ['a', 'e']\n",
    "    - Note: The elements inside the list should not duplicate. ex: ['a', 'a', 'e', 'i', 'i'] is not allowed. It should be ['a', 'e', 'i'].\n",
    "    - Note 1: This exercise can not use the set() function.<br>\n",
    "<br>\n",
    "  - The result should look like this:<br>\n",
    "      &rarr; Here is the list of common letters: ['e', 'n', 'a', 'o', ' ', 'l', 's']<br>\n",
    "<br>\n",
    "- Question 10-2:\n",
    "    - You and your friends are going to see a movie and here is the price list:\n",
    "        - if the age of a person is under 3, then the ticket is free\n",
    "        - if the age of a person is between 3 and 12, then the ticket is $10\n",
    "        - if the age of a person is over 12, then the ticket is $15\n",
    "            - Write a \"while loop\" to ask a person's age and show them the price of a ticket<br>\n",
    "<br>\n",
    "  - The result should look like this:<br>\n",
    "      &rarr; Your age: 28; Your ticket price is 15!<br>\n",
    "      &emsp; Your age: 10; Your ticket price is 10!<br>\n",
    "      &emsp; Your age: 2; Your ticket price is free!"
   ],
   "metadata": {}
  },
  {
   "cell_type": "code",
   "execution_count": null,
   "source": [],
   "outputs": [],
   "metadata": {}
  },
  {
   "cell_type": "code",
   "execution_count": null,
   "source": [],
   "outputs": [],
   "metadata": {}
  }
 ],
 "metadata": {
  "orig_nbformat": 4,
  "language_info": {
   "name": "python",
   "version": "3.8.5",
   "mimetype": "text/x-python",
   "codemirror_mode": {
    "name": "ipython",
    "version": 3
   },
   "pygments_lexer": "ipython3",
   "nbconvert_exporter": "python",
   "file_extension": ".py"
  },
  "kernelspec": {
   "name": "python3",
   "display_name": "Python 3.8.5 64-bit ('base': conda)"
  },
  "interpreter": {
   "hash": "0c2a3eb2b4bb7385d62df44902d8a819643fb968efd7b2f0d85bc574e8a1e85b"
  }
 },
 "nbformat": 4,
 "nbformat_minor": 2
}