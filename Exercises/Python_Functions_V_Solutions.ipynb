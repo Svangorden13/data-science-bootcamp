{
 "cells": [
  {
   "cell_type": "markdown",
   "source": [
    "## Function:\n",
    "\n",
    "- Question 1 (\bsum and print): \n",
    "    - Write a function that will iterate the itegers from 0 to 10 and in each iteration, print the current iterated number and the current sum.\n",
    "\n",
    "    - The result should look like this:\n",
    "        ```py\n",
    "            current num: 0, current sum: 0\n",
    "            current num: 1, current sum: 1\n",
    "            current num: 2, current sum: 3\n",
    "            current num: 3, current sum: 6\n",
    "            current num: 4, current sum: 10\n",
    "            current num: 5, current sum: 15\n",
    "            current num: 6, current sum: 21\n",
    "            current num: 7, current sum: 28\n",
    "            current num: 8, current sum: 36\n",
    "            current num: 9, current sum: 45\n",
    "            current num: 10, current sum: 55\n",
    "        ```\n",
    "        "
   ],
   "metadata": {},
   "attachments": {}
  },
  {
   "cell_type": "code",
   "execution_count": 3,
   "source": [
    "def sum_and_print():\n",
    "    \n",
    "    total = 0\n",
    "    for i in range(11):\n",
    "        total += i\n",
    "        print(f\"current num: {i}, current sum: {total}\")\n",
    "    \n",
    "sum_and_print()"
   ],
   "outputs": [
    {
     "output_type": "stream",
     "name": "stdout",
     "text": [
      "current num: 0, current sum: 0\n",
      "current num: 1, current sum: 1\n",
      "current num: 2, current sum: 3\n",
      "current num: 3, current sum: 6\n",
      "current num: 4, current sum: 10\n",
      "current num: 5, current sum: 15\n",
      "current num: 6, current sum: 21\n",
      "current num: 7, current sum: 28\n",
      "current num: 8, current sum: 36\n",
      "current num: 9, current sum: 45\n",
      "current num: 10, current sum: 55\n"
     ]
    }
   ],
   "metadata": {}
  },
  {
   "cell_type": "markdown",
   "source": [
    "## Function:\n",
    "\n",
    "- Question 2 (print the even index letters from a string): \n",
    "    - Write a function that can accept a string as an argument and print letters which the indices are even numbers.\n",
    "\n",
    "    - The result should look like this:\n",
    "\n",
    "        ```py\n",
    "            l\n",
    "            a\n",
    "            n\n",
    "            n\n",
    "            f\n",
    "            z\n",
    "        ```"
   ],
   "metadata": {},
   "attachments": {}
  },
  {
   "cell_type": "code",
   "execution_count": 4,
   "source": [
    "s = 'learningfuze'"
   ],
   "outputs": [],
   "metadata": {}
  },
  {
   "cell_type": "code",
   "execution_count": 5,
   "source": [
    "def print_even_index_letters(s):\n",
    "    \n",
    "    for i, j in enumerate(s):\n",
    "        if i % 2 == 0:\n",
    "            print(j)\n",
    "\n",
    "print_even_index_letters(s)"
   ],
   "outputs": [
    {
     "output_type": "stream",
     "name": "stdout",
     "text": [
      "l\n",
      "a\n",
      "n\n",
      "n\n",
      "f\n",
      "z\n"
     ]
    }
   ],
   "metadata": {}
  },
  {
   "cell_type": "markdown",
   "source": [
    "## Function:\n",
    "\n",
    "- Question 3(remove the first n letters from a string): \n",
    "    - Write a function to take 2 input parameters, one is for a string, the other is for an integer which reprents the index.\n",
    "    - And this function will return a string after being removed the first n letters (\"n\" will be your input index).\n",
    "    - the result should look like this (remove the first 3 letters):\n",
    "    ```py\n",
    "        'rningfuze'\n",
    "    ```"
   ],
   "metadata": {},
   "attachments": {}
  },
  {
   "cell_type": "code",
   "execution_count": 9,
   "source": [
    "s = 'learningfuze'"
   ],
   "outputs": [],
   "metadata": {}
  },
  {
   "cell_type": "code",
   "execution_count": 9,
   "source": [
    "def remove_first_n_letters(s, n):\n",
    "    \n",
    "    return s[n:]\n",
    "\n",
    "remove_first_n_letters(s, 3)"
   ],
   "outputs": [
    {
     "output_type": "execute_result",
     "data": {
      "text/plain": [
       "'rningfuze'"
      ]
     },
     "metadata": {},
     "execution_count": 9
    }
   ],
   "metadata": {}
  },
  {
   "cell_type": "markdown",
   "source": [
    "## Function:\n",
    "\n",
    "- Question 4 (check if the first and the last elements are the same):\n",
    "    - Write a function which takes a list as an argument and inside the function, you'll check whether the first and the last elements are the same or not. If it is the same, return `True`, if it is not, return `False`.\n",
    "    - Test your function with the following 2 lists, `nums_1` & `nums_2`\n",
    "    - the result should look like this:\n",
    "    ```py\n",
    "        # for nums_1:\n",
    "        False\n",
    "        # for nums_2:\n",
    "        True\n",
    "    ```"
   ],
   "metadata": {}
  },
  {
   "cell_type": "code",
   "execution_count": 10,
   "source": [
    "nums_1 = [10,20,30,40,50,60,70,80]\n",
    "nums_2 = [10, 20, 80, 10]"
   ],
   "outputs": [],
   "metadata": {}
  },
  {
   "cell_type": "code",
   "execution_count": 11,
   "source": [
    "def check_first_and_last(lst):\n",
    "    \n",
    "    return lst[0] == lst[-1]"
   ],
   "outputs": [],
   "metadata": {}
  },
  {
   "cell_type": "code",
   "execution_count": 12,
   "source": [
    "check_first_and_last(nums_1)"
   ],
   "outputs": [
    {
     "output_type": "execute_result",
     "data": {
      "text/plain": [
       "False"
      ]
     },
     "metadata": {},
     "execution_count": 12
    }
   ],
   "metadata": {}
  },
  {
   "cell_type": "code",
   "execution_count": 13,
   "source": [
    "check_first_and_last(nums_2)"
   ],
   "outputs": [
    {
     "output_type": "execute_result",
     "data": {
      "text/plain": [
       "True"
      ]
     },
     "metadata": {},
     "execution_count": 13
    }
   ],
   "metadata": {}
  },
  {
   "cell_type": "markdown",
   "source": [
    "## Function:\n",
    "\n",
    "- Question 5 (check occurrences of a substring):\n",
    "    - Write a function which takes 2 input parameters, 1 is for taking a document, and the other is for typing in a keyword.\n",
    "    - Test the function with the following document, `doc`, and use the keyword `NLTK`. This function will return the occurrences of `NLTK` in the `doc`.\n",
    "    - The result should look like this:\n",
    "    ```py\n",
    "        3\n",
    "    ```"
   ],
   "metadata": {}
  },
  {
   "cell_type": "code",
   "execution_count": 14,
   "source": [
    "doc = \"Thanks to a hands-on guide introducing programming fundamentals alongside topics in computational linguistics, plus comprehensive API documentation, NLTK is suitable for linguists, engineers, students, educators, researchers, and industry users alike. NLTK is available for Windows, Mac OS X, and Linux. Best of all, NLTK is a free, open source, community-driven project.\""
   ],
   "outputs": [],
   "metadata": {}
  },
  {
   "cell_type": "code",
   "execution_count": 15,
   "source": [
    "def check_substrings_occurrences(doc, keyword):\n",
    "    \n",
    "    return doc.count(keyword)\n",
    "\n",
    "check_substrings_occurrences(doc, 'NLTK')"
   ],
   "outputs": [
    {
     "output_type": "execute_result",
     "data": {
      "text/plain": [
       "3"
      ]
     },
     "metadata": {},
     "execution_count": 15
    }
   ],
   "metadata": {}
  },
  {
   "cell_type": "markdown",
   "source": [
    "## Function:\n",
    "\n",
    "- Question 6 (create a new list):\n",
    "    - Write a function which can take 2 lists as arguments. This function will return a new list which it contains all the odd numbers from the `list1` and contains all the even numbers from the `list2`.\n",
    "\n",
    "    - The result should look like this:\n",
    "    ```py\n",
    "      [25, 35, 40, 60, 90]\n",
    "    ```"
   ],
   "metadata": {}
  },
  {
   "cell_type": "code",
   "execution_count": 16,
   "source": [
    "list1 = [10, 20, 25, 30, 35]\n",
    "list2 = [40, 45, 60, 75, 90]"
   ],
   "outputs": [],
   "metadata": {}
  },
  {
   "cell_type": "code",
   "execution_count": 17,
   "source": [
    "def create_new_lst(lst1, lst2):\n",
    "    \n",
    "    new_lst = []\n",
    "    \n",
    "    for i in lst1:\n",
    "        if i%2 != 0:\n",
    "            new_lst.append(i)\n",
    "\n",
    "    for i in lst2:\n",
    "        if i%2 == 0:\n",
    "            new_lst.append(i)\n",
    "    \n",
    "    return new_lst\n",
    "\n",
    "create_new_lst(list1, list2)\n",
    "    "
   ],
   "outputs": [
    {
     "output_type": "execute_result",
     "data": {
      "text/plain": [
       "[25, 35, 40, 60, 90]"
      ]
     },
     "metadata": {},
     "execution_count": 17
    }
   ],
   "metadata": {}
  },
  {
   "cell_type": "markdown",
   "source": [
    "## Function:\n",
    "\n",
    "- Question 7 (print the digits in a reversed order of a number):\n",
    "    - Write a function that can take an integer as an argument and print the digits in a reversed order.\n",
    "    -  The result should look like this:\n",
    "        ```py\n",
    "            1\n",
    "            2\n",
    "            3\n",
    "            4\n",
    "            5\n",
    "            6\n",
    "            7\n",
    "            8\n",
    "            9\n",
    "        ```"
   ],
   "metadata": {}
  },
  {
   "cell_type": "code",
   "execution_count": 29,
   "source": [
    "num = 987654321"
   ],
   "outputs": [],
   "metadata": {}
  },
  {
   "cell_type": "code",
   "execution_count": 55,
   "source": [
    "def print_reverse_order(num):\n",
    "    \n",
    "    num = str(num)\n",
    "    for i in range(len(num)-1, -1, -1):\n",
    "        print(num[i])\n",
    "\n",
    "print_reverse_order(num)"
   ],
   "outputs": [
    {
     "output_type": "stream",
     "name": "stdout",
     "text": [
      "1\n",
      "2\n",
      "3\n",
      "4\n",
      "5\n",
      "6\n",
      "7\n",
      "8\n",
      "9\n"
     ]
    }
   ],
   "metadata": {}
  },
  {
   "cell_type": "markdown",
   "source": [
    "## Function:\n",
    "\n",
    "- Question 8 (multiply elements in 2 lists):\n",
    "    - Write a function that can take 2 lists as arguments and this funciton will multiply each element in 2 lists and return a new list which is the multiplication result.\n",
    "    - here is the multiplication rule:\n",
    "        - the first element in the `num1` will multiply the first element in the `num2`\n",
    "        - same rule for the rest elements\n",
    "    - The result should look like this:\n",
    "    ```py\n",
    "        [4, 10, 18]\n",
    "    ```"
   ],
   "metadata": {}
  },
  {
   "cell_type": "code",
   "execution_count": 50,
   "source": [
    "num1 = [1, 2, 3]\n",
    "num2 = [4, 5, 6]"
   ],
   "outputs": [],
   "metadata": {}
  },
  {
   "cell_type": "code",
   "execution_count": 51,
   "source": [
    "def get_multiples(num1, num2):\n",
    "    \n",
    "    m = []\n",
    "    \n",
    "    for i in range(len(num1)):\n",
    "        m.append(num1[i]*num2[i])\n",
    "    \n",
    "    return m\n",
    "\n",
    "get_multiples(num1, num2)    "
   ],
   "outputs": [
    {
     "output_type": "execute_result",
     "data": {
      "text/plain": [
       "[4, 10, 18]"
      ]
     },
     "metadata": {},
     "execution_count": 51
    }
   ],
   "metadata": {}
  },
  {
   "cell_type": "markdown",
   "source": [
    "## Function:\n",
    "\n",
    "- Question 9 (planets information):\n",
    "    - Write a function that can take 2 lists as arguements and it will return the list with the combined informations.\n",
    "\n",
    "    - The result should look like this:\n",
    "    ```py\n",
    "        [('mercury', 3.61),\n",
    "        ('venus', 8.83),\n",
    "        ('earth', 9.80665),\n",
    "        ('mars', 3.75),\n",
    "        ('jupiter', 26.0),\n",
    "        ('saturn', 11.2),\n",
    "        ('uranus', 10.5),\n",
    "        ('neptune', 13.3)]\n",
    "    ```"
   ],
   "metadata": {}
  },
  {
   "cell_type": "code",
   "execution_count": 53,
   "source": [
    "planets = ['mercury', 'venus', 'earth', 'mars', 'jupiter', 'saturn', 'uranus', 'neptune']\n",
    "planet_g = [3.61, 8.83, 9.80665, 3.75, 26.0, 11.2, 10.5, 13.3]"
   ],
   "outputs": [],
   "metadata": {}
  },
  {
   "cell_type": "code",
   "execution_count": 54,
   "source": [
    "def planets_info(lst1, lst2):\n",
    "    \n",
    "    return list(zip(lst1, lst2))\n",
    "\n",
    "planets_info(planets, planet_g)"
   ],
   "outputs": [
    {
     "output_type": "execute_result",
     "data": {
      "text/plain": [
       "[('mercury', 3.61),\n",
       " ('venus', 8.83),\n",
       " ('earth', 9.80665),\n",
       " ('mars', 3.75),\n",
       " ('jupiter', 26.0),\n",
       " ('saturn', 11.2),\n",
       " ('uranus', 10.5),\n",
       " ('neptune', 13.3)]"
      ]
     },
     "metadata": {},
     "execution_count": 54
    }
   ],
   "metadata": {}
  },
  {
   "cell_type": "markdown",
   "source": [
    "## Function:\n",
    "\n",
    "- Question 10 (square):\n",
    "    - Write a function that can take the side length of a square and it will return a dictionary which has 2 key and value pairs, one is to show the perimeter value, and the other is to show the area of the square.\n",
    "      \n",
    "    - The result should look like this (with a side length equal to 4):\n",
    "    ```py\n",
    "        {'perimeter': 16, 'area': 16}\n",
    "    ```"
   ],
   "metadata": {}
  },
  {
   "cell_type": "code",
   "execution_count": 52,
   "source": [
    "def sq_info(side_length):\n",
    "    \n",
    "    sq_info_dict = {}\n",
    "    \n",
    "    sq_info_dict['perimeter'] = 4 * side_length\n",
    "    sq_info_dict['area'] = side_length ** 2\n",
    "    \n",
    "    return sq_info_dict\n",
    "\n",
    "sq_info(4)"
   ],
   "outputs": [
    {
     "output_type": "execute_result",
     "data": {
      "text/plain": [
       "{'perimeter': 16, 'area': 16}"
      ]
     },
     "metadata": {},
     "execution_count": 52
    }
   ],
   "metadata": {}
  },
  {
   "cell_type": "code",
   "execution_count": null,
   "source": [],
   "outputs": [],
   "metadata": {}
  }
 ],
 "metadata": {
  "kernelspec": {
   "name": "python3",
   "display_name": "Python 3.8.5 64-bit ('base': conda)"
  },
  "language_info": {
   "codemirror_mode": {
    "name": "ipython",
    "version": 3
   },
   "file_extension": ".py",
   "mimetype": "text/x-python",
   "name": "python",
   "nbconvert_exporter": "python",
   "pygments_lexer": "ipython3",
   "version": "3.8.5"
  },
  "orig_nbformat": 4,
  "interpreter": {
   "hash": "0c2a3eb2b4bb7385d62df44902d8a819643fb968efd7b2f0d85bc574e8a1e85b"
  }
 },
 "nbformat": 4,
 "nbformat_minor": 2
}