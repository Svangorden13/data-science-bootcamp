{
 "cells": [
  {
   "cell_type": "markdown",
   "source": [
    "## Function:\n",
    "\n",
    "- Question 1 (math operation): \n",
    "    - Write a function that can take 2 input parameters, and this function will return:\n",
    "      - sum\n",
    "      - subtraction\n",
    "      - multiplcation\n",
    "      - use integers `2` & `3` to test your function\n",
    "\n",
    "    - The result should look like this:\n",
    "        ```py\n",
    "            'Here is the sum: 5, subtraction: -1, multiplication: 6'\n",
    "        ```\n",
    "        "
   ],
   "metadata": {},
   "attachments": {}
  },
  {
   "cell_type": "code",
   "execution_count": null,
   "source": [],
   "outputs": [],
   "metadata": {}
  },
  {
   "cell_type": "markdown",
   "source": [
    "## Function:\n",
    "\n",
    "- Question 2 (check nums): \n",
    "    - Write a function that can accept an input number(integer) and this function will check whether this number is inside the list `x` or not.\n",
    "    - Please put the list `x` inside the function. Test your function with integer `24` and `56`.\n",
    "        ```py\n",
    "          x = [24, 78, 156, 256, 78]\n",
    "        ```\n",
    "    - The result should look like this:\n",
    "\n",
    "        ```py\n",
    "            24 is in the list!\n",
    "            56 is not in the list!\n",
    "        ```"
   ],
   "metadata": {},
   "attachments": {}
  },
  {
   "cell_type": "code",
   "execution_count": null,
   "source": [],
   "outputs": [],
   "metadata": {}
  },
  {
   "cell_type": "markdown",
   "source": [
    "## Function:\n",
    "\n",
    "- Question 3(find the maximum value): \n",
    "    - Write a function to take 3 values and return the maximum of the 3 values\n",
    "    - test your function with integers `6`, `7`, `-1`\n",
    "    - the result should look like this:\n",
    "    ```py\n",
    "        7\n",
    "    ```"
   ],
   "metadata": {},
   "attachments": {}
  },
  {
   "cell_type": "code",
   "execution_count": null,
   "source": [],
   "outputs": [],
   "metadata": {}
  },
  {
   "cell_type": "markdown",
   "source": [
    "## Function:\n",
    "\n",
    "- Question 4 (check multiples of 10):\n",
    "    - Write a function which takes an input parameter and return a message to show whether this number is a multiple of 10 or not.\n",
    "    - test your function with integers `10` and `67`\n",
    "    - the result should look like this:\n",
    "    ```py\n",
    "        '10 is the multiple of 10'\n",
    "        '67 is not the multiple of 10'\n",
    "    ```"
   ],
   "metadata": {}
  },
  {
   "cell_type": "code",
   "execution_count": null,
   "source": [],
   "outputs": [],
   "metadata": {}
  },
  {
   "cell_type": "markdown",
   "source": [
    "## Function:\n",
    "\n",
    "- Question 5 (vowels and consonant):\n",
    "    - Write a function which takes a string argument and return how many vowels and consonants in this string.\n",
    "    - Test your function with the string, `LearningFuze`\n",
    "    - The result should look like this:\n",
    "    ```py\n",
    "        'LearningFuze has 5 vowels and 7 consonants.'\n",
    "    ```"
   ],
   "metadata": {}
  },
  {
   "cell_type": "code",
   "execution_count": null,
   "source": [],
   "outputs": [],
   "metadata": {}
  },
  {
   "cell_type": "markdown",
   "source": [
    "## Function:\n",
    "\n",
    "- Question 6 (Factorial):\n",
    "    - Write a function which takes an ineger as an input arguement and return the factorial of the integer.\n",
    "    - Test your function with the ineger `7`\n",
    "    - Hint: How to calculate the factorial of a number?\n",
    "      - If your input number is `3`, then the factorial is `1*2*3 = 6`.<br>\n",
    "<br>\n",
    "    - The result should look like this:\n",
    "    ```py\n",
    "      5040\n",
    "    ```"
   ],
   "metadata": {}
  },
  {
   "cell_type": "code",
   "execution_count": null,
   "source": [],
   "outputs": [],
   "metadata": {}
  },
  {
   "cell_type": "markdown",
   "source": [
    "## Function:\n",
    "\n",
    "- Question 7 (uppercase):\n",
    "    - Write a function that can take a string and return the words in uppercase.\n",
    "    - Test your function with the string `LearningFuze`.\n",
    "    -  The result should look like this:\n",
    "        ```py\n",
    "            'LEARNINGFUZE'\n",
    "        ```"
   ],
   "metadata": {}
  },
  {
   "cell_type": "code",
   "execution_count": null,
   "source": [],
   "outputs": [],
   "metadata": {}
  },
  {
   "cell_type": "markdown",
   "source": [
    "## Function:\n",
    "\n",
    "- Question 8 (the area of a circle):\n",
    "    - Write a function that can take the radius of a circle and return the area.\n",
    "    - Test your function with the radius `10`\n",
    "    - Note: use `3.14` for pi constant\n",
    "    - The result should look like this:\n",
    "    ```py\n",
    "        314.0\n",
    "    ```"
   ],
   "metadata": {}
  },
  {
   "cell_type": "code",
   "execution_count": null,
   "source": [],
   "outputs": [],
   "metadata": {}
  },
  {
   "cell_type": "markdown",
   "source": [
    "## Function:\n",
    "\n",
    "- Question 9 (Check substring):\n",
    "    - Write a function that can take 2 arguements, 1 is a longer string, and the other is a shorter string.\n",
    "    - This function will return `True` when the shorter string is a substring of the longer string. \n",
    "    - And the function will return `False` if the shorter string is ***not*** a substring of the longer string.\n",
    "    - Test your function with the following string pairs:\n",
    "    ```py\n",
    "      'blueberry', 'berry'\n",
    "      'watermellon', 'mellon'\n",
    "      'robot', 'dog'\n",
    "    ```\n",
    "\n",
    "    - The result should look like this:\n",
    "    ```py\n",
    "      True\n",
    "      True\n",
    "      False\n",
    "    ```"
   ],
   "metadata": {}
  },
  {
   "cell_type": "code",
   "execution_count": null,
   "source": [],
   "outputs": [],
   "metadata": {}
  },
  {
   "cell_type": "markdown",
   "source": [
    "## Function:\n",
    "\n",
    "- Question 10 (username & password generators):\n",
    "    - Write the first function (an username generator) that takes 2 arguments, one is the first name, the other is the last name.<br>\n",
    "      And this function will return the first 3 alphabets in the first name, and concatenate the first 4 alphabets in the last name as the username<br>\n",
    "      - ex: first name is 'ludwig', and last name is 'boltzmann', then the function will return `ludbolt`<br>\n",
    "      <br>\n",
    "    - Write another function (a password generator), that can take the return result (username) from the first function as an argument. <br>\n",
    "      This function will return a password and it will shift all the letters of the username to the right.<br>\n",
    "      - ex: the username is `ludbolt`, then the password will be `tludbol`\n",
    "    - Test your function with these 2 people's names:\n",
    "\n",
    "        ```py\n",
    "        hermann minkowski,\n",
    "        leonhard, euler\n",
    "          \n",
    "        ```\n",
    "      \n",
    "    - The password results should look like this:\n",
    "    ```py\n",
    "        'khermin'\n",
    "        'eleoeul'\n",
    "    ```"
   ],
   "metadata": {}
  },
  {
   "cell_type": "code",
   "execution_count": null,
   "source": [],
   "outputs": [],
   "metadata": {}
  }
 ],
 "metadata": {
  "kernelspec": {
   "name": "python3",
   "display_name": "Python 3.8.5 64-bit ('base': conda)"
  },
  "language_info": {
   "codemirror_mode": {
    "name": "ipython",
    "version": 3
   },
   "file_extension": ".py",
   "mimetype": "text/x-python",
   "name": "python",
   "nbconvert_exporter": "python",
   "pygments_lexer": "ipython3",
   "version": "3.8.5"
  },
  "orig_nbformat": 4,
  "interpreter": {
   "hash": "0c2a3eb2b4bb7385d62df44902d8a819643fb968efd7b2f0d85bc574e8a1e85b"
  }
 },
 "nbformat": 4,
 "nbformat_minor": 2
}