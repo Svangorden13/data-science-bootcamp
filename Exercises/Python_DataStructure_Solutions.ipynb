{
 "cells": [
  {
   "cell_type": "markdown",
   "source": [
    "## Data Structure (List):\n",
    "\n",
    "- Question 1 (Fibonacci Series):\n",
    "\n",
    "    - Here is the Fibonacci series: [0, 1, 1, 2, 3, 5, 8, 13, 21, 34, 55, 89, 144, 233, 377, 610, 987, 1597, 2584, 4181] <br>\n",
    "      Can you write a \"for loop\" with \"if-else\" statement to append 2 lists, one is a list with even numbers, the other with odd numbers and print both even and odd lists in the end?<br>\n",
    "    - The result should look like this:<br>\n",
    "      &rarr; even list: [0, 2, 8, 34, 144, 610, 2584] <br>\n",
    "      &emsp; odd list: [1, 1, 3, 5, 13, 21, 55, 89, 233, 377, 987, 1597, 4181]\n",
    "      \n",
    "\n",
    "\n"
   ],
   "metadata": {}
  },
  {
   "cell_type": "code",
   "execution_count": 6,
   "source": [
    "fibonacci_series = [0, 1, 1, 2, 3, 5, 8, 13, 21, 34, 55, 89, 144, 233, 377, 610, 987, 1597, 2584, 4181]\n",
    "\n",
    "even = []\n",
    "odd = []\n",
    "\n",
    "for i in fibonacci_series:\n",
    "    if i % 2 == 0:\n",
    "        even.append(i)\n",
    "    else:\n",
    "        odd.append(i)\n",
    "\n",
    "print(f\"even list: {even}\")\n",
    "print(f\"odd list: {odd}\")"
   ],
   "outputs": [
    {
     "output_type": "stream",
     "name": "stdout",
     "text": [
      "even list: [0, 2, 8, 34, 144, 610, 2584]\n",
      "odd list: [1, 1, 3, 5, 13, 21, 55, 89, 233, 377, 987, 1597, 4181]\n"
     ]
    }
   ],
   "metadata": {}
  },
  {
   "cell_type": "markdown",
   "source": [
    "## Data Structure (List):\n",
    "\n",
    "- Question 2 (Prime Numbers):\n",
    "\n",
    "  - Here is a list of prime numbers: [2, 3, 5, 7, 11, 13, 17, 19]\n",
    "  - Can you write a program to print all elements in this list by using a \"for loop\" and accessing elements in the list by indices?\n",
    "  - The result should look like this: <br>\n",
    "    &rarr; 2 <br>\n",
    "    &emsp; 3 <br>\n",
    "    &emsp; 5 <br>\n",
    "    &emsp; 7 <br>\n",
    "    &emsp; 9 <br>\n",
    "    &emsp; 11 <br>\n",
    "    &emsp; 13 <br>\n",
    "    &emsp; 17 <br>\n",
    "    &emsp; 19\n",
    "    "
   ],
   "metadata": {}
  },
  {
   "cell_type": "code",
   "execution_count": 13,
   "source": [
    "prime_nums = [2, 3, 5, 7, 11, 13, 17, 19]\n",
    "\n",
    "for i in range(len(prime_nums)):\n",
    "    print(prime_nums[i])   \n",
    "    "
   ],
   "outputs": [
    {
     "output_type": "stream",
     "name": "stdout",
     "text": [
      "2\n",
      "3\n",
      "5\n",
      "7\n",
      "11\n",
      "13\n",
      "17\n",
      "19\n"
     ]
    }
   ],
   "metadata": {}
  },
  {
   "cell_type": "markdown",
   "source": [
    "## Data Structure (List):\n",
    "\n",
    "- Question 3 (Remove Elements):\n",
    "    - Here is the list of animals: animals = ['dog', 'cat', 'lion', 'tiger', '$']\n",
    "    - Can you remove the element which is not an animal from this list?\n",
    "    - The result should look like this: <br>\n",
    "      &rarr; ['dog', 'cat', 'lion', 'tiger']"
   ],
   "metadata": {}
  },
  {
   "cell_type": "code",
   "execution_count": 75,
   "source": [
    "animals = ['dog', 'cat', 'lion', 'tiger', '$']\n",
    "\n",
    "animals.remove('$')\n",
    "animals"
   ],
   "outputs": [
    {
     "output_type": "execute_result",
     "data": {
      "text/plain": [
       "['dog', 'cat', 'lion', 'tiger']"
      ]
     },
     "metadata": {},
     "execution_count": 75
    }
   ],
   "metadata": {}
  },
  {
   "cell_type": "markdown",
   "source": [
    "## Data Structure (Dictionary):\n",
    "\n",
    "- Question 4 (Personal Info):\n",
    "\n",
    "  - Step 1: Create a dictionary with \"first_name\", \"last_name\" and \"hobby\" as the keys, and then assign values to these keys\n",
    "  - Step 2: Print all the keys in the dictionary\n",
    "  - Step 3: Print all the values in the dictionary\n",
    "  - Step 4: Print all the key and value pairs in the dictionary\n",
    "  - The result should look like this:<br>\n",
    "    &rarr; key: first_name<br>\n",
    "    &emsp; key: last_name <br>\n",
    "    &emsp; key: hobby <br>\n",
    "    &emsp; value: Susan <br>\n",
    "    &emsp; value: Carter <br>\n",
    "    &emsp; value: cooking <br>\n",
    "    &emsp; Here is the key: first_name; here is the value: Susan <br>\n",
    "    &emsp; Here is the key: last_name; here is the value: Carter <br>\n",
    "    &emsp; Here is the key: hobby; here is the value: cooking <br>\n",
    "\n",
    "    "
   ],
   "metadata": {}
  },
  {
   "cell_type": "code",
   "execution_count": 79,
   "source": [
    "personal_info = {\n",
    "    \"first_name\": \"Susan\",\n",
    "    \"last_name\": \"Carter\",\n",
    "    \"hobby\": \"cooking\"\n",
    "}\n",
    "\n",
    "for k in personal_info.keys():\n",
    "    print(f\"key: {k}\")\n",
    "\n",
    "for v in personal_info.values():\n",
    "    print(f\"value: {v}\")\n",
    "\n",
    "for k, v in personal_info.items():\n",
    "    print(f\"Here is the key: {k}; here is the value: {v}\")"
   ],
   "outputs": [
    {
     "output_type": "stream",
     "name": "stdout",
     "text": [
      "key: first_name\n",
      "key: last_name\n",
      "key: hobby\n",
      "value: Susan\n",
      "value: Carter\n",
      "value: cooking\n",
      "Here is the key: first_name; here is the value: Susan\n",
      "Here is the key: last_name; here is the value: Carter\n",
      "Here is the key: hobby; here is the value: cooking\n"
     ]
    }
   ],
   "metadata": {}
  },
  {
   "cell_type": "markdown",
   "source": [
    "## Data Structure (Dictionary):\n",
    "\n",
    "- Question 5:\n",
    "  - From the dictionary created in question 4, get all the values stored in all the keys and assign them into 3 different variables, then print all 3 variables.\n",
    "    - The result should look like this:<br>\n",
    "      &rarr; first_name variable: Susan<br>\n",
    "      &emsp; last_name variable: Carter<br>\n",
    "      &emsp; hobby variable: cooking<br>\n",
    "<br>\n",
    "  - From the dictionary created in question 4, update the dictionary with the \"job\" as a key and assign a value to it. Then print the dictionary.\n",
    "    - The result should look like this:<br>\n",
    "      &rarr; {'first_name': 'Susan', 'last_name': 'Carter', 'hobby': 'cooking', 'job': 'lawyer'}<br>\n",
    "<br>\n",
    "  - From the dictionary created in quesiton 4, change the value of the key \"hobby\" to another value (like changing the value from \"cooking\" to \"hiking\") and print the dictionary.\n",
    "    - The result should look like this:<br>\n",
    "      &rarr; {'first_name': 'Susan', 'last_name': 'Carter', 'hobby': 'hiking', 'job': 'lawyer'}<br>\n",
    "<br>\n",
    "  - From the dictionary created in question 4, remove the 'last_name' key from the dictionary and print the dictionary in the end.\n",
    "    - The result should look like this:<br>\n",
    "     &rarr; {'first_name': 'Susan', 'hobby': 'hiking', 'job': 'lawyer'}"
   ],
   "metadata": {}
  },
  {
   "cell_type": "code",
   "execution_count": 82,
   "source": [
    "first_name = personal_info['first_name']\n",
    "last_name = personal_info.get('last_name')\n",
    "hobby = personal_info['hobby']\n",
    "print(f\"first_name variable: {first_name}\")\n",
    "print(f\"last_name variable: {last_name}\")\n",
    "print(f\"hobby variable: {hobby}\")"
   ],
   "outputs": [
    {
     "output_type": "stream",
     "name": "stdout",
     "text": [
      "first_name variable: Susan\n",
      "last_name variable: Carter\n",
      "hobby variable: cooking\n"
     ]
    }
   ],
   "metadata": {}
  },
  {
   "cell_type": "code",
   "execution_count": 84,
   "source": [
    "personal_info['job'] = 'lawyer'\n",
    "print(personal_info)"
   ],
   "outputs": [
    {
     "output_type": "stream",
     "name": "stdout",
     "text": [
      "{'first_name': 'Susan', 'last_name': 'Carter', 'hobby': 'cooking', 'job': 'lawyer'}\n"
     ]
    }
   ],
   "metadata": {}
  },
  {
   "cell_type": "code",
   "execution_count": 85,
   "source": [
    "personal_info['hobby'] = 'hiking'\n",
    "print(personal_info)"
   ],
   "outputs": [
    {
     "output_type": "stream",
     "name": "stdout",
     "text": [
      "{'first_name': 'Susan', 'last_name': 'Carter', 'hobby': 'hiking', 'job': 'lawyer'}\n"
     ]
    }
   ],
   "metadata": {}
  },
  {
   "cell_type": "code",
   "execution_count": 86,
   "source": [
    "personal_info.pop(\"last_name\")\n",
    "print(personal_info)"
   ],
   "outputs": [
    {
     "output_type": "stream",
     "name": "stdout",
     "text": [
      "{'first_name': 'Susan', 'hobby': 'hiking', 'job': 'lawyer'}\n"
     ]
    }
   ],
   "metadata": {}
  },
  {
   "cell_type": "markdown",
   "source": [
    "## Data Structure (Dictionary):\n",
    "\n",
    "- Question 6:\n",
    "  - Can you create a dictionary for the following 2 lists and print the dictionary in the end?\n",
    "    - color_names = ['maroon', 'dark red', 'brown']\n",
    "    - color_codes = ['#800000', '#8B0000', '#A52A2A']\n",
    "  - The result should look like this:<br>\n",
    "    &rarr; {'maroon': '#800000', 'dark red': '#8B0000', 'brown': '#A52A2'}"
   ],
   "metadata": {}
  },
  {
   "cell_type": "code",
   "execution_count": 91,
   "source": [
    "color_names = ['maroon', 'dark red', 'brown']\n",
    "color_codes = ['#800000', '#8B0000', '#A52A2']\n",
    "\n",
    "color_dict = dict(zip(color_names, color_codes))\n",
    "print(color_dict)"
   ],
   "outputs": [
    {
     "output_type": "stream",
     "name": "stdout",
     "text": [
      "{'maroon': '#800000', 'dark red': '#8B0000', 'brown': '#A52A2'}\n"
     ]
    }
   ],
   "metadata": {}
  },
  {
   "cell_type": "markdown",
   "source": [
    "## Data Structure (Tuple):\n",
    "\n",
    "- Question 7:\n",
    "    - Concatenate these tuples to become 1 tuple, assign this tuple to a new variable and show this variable in the end\n",
    "        - t1 = (2, 3)\n",
    "        - t2 = (4,)\n",
    "        - t3 = (256, 128, 64, 32)\n",
    "        - The result should look like this:<br>\n",
    "          &rarr; (2, 3, 4, 256, 128, 64, 32) <br>\n",
    "<br>\n",
    "    - From the result above, modify the element greater than 200 with assigining a new number 0 and print elements less than 200 by using a \"for loop\" with \"if-else statement\"\n",
    "      - Also, include a \"try-except\" block to catch the error and print 2 messages in the except block, one is the error message, the other is \"Tuple object is immutable!\"\n",
    "      - The result should look like this:<br>\n",
    "        &rarr; 2 <br>\n",
    "        &emsp; 3 <br>\n",
    "        &emsp; 4 <br>\n",
    "        &emsp; 'tuple' object does not support item assignment<br>\n",
    "        &emsp; Tuple object is immutable! <br>\n",
    "        &emsp; 128 <br>\n",
    "        &emsp; 64 <br>\n",
    "        &emsp; 32"
   ],
   "metadata": {}
  },
  {
   "cell_type": "code",
   "execution_count": 107,
   "source": [
    "t1 = (2, 3)\n",
    "t2 = (4,)\n",
    "t3 = (256, 128, 64, 32)\n",
    "\n",
    "t4 = t1 + t2 + t3\n",
    "t4"
   ],
   "outputs": [
    {
     "output_type": "execute_result",
     "data": {
      "text/plain": [
       "(2, 3, 4, 256, 128, 64, 32)"
      ]
     },
     "metadata": {},
     "execution_count": 107
    }
   ],
   "metadata": {}
  },
  {
   "cell_type": "code",
   "execution_count": 119,
   "source": [
    "for i in t4:\n",
    "    try:\n",
    "        if i > 200:\n",
    "            t4[i] = 0\n",
    "        else:\n",
    "            print(i)\n",
    "    except Exception as err:\n",
    "        print(err)\n",
    "        print(\"Tuple object is immutable!\")"
   ],
   "outputs": [
    {
     "output_type": "stream",
     "name": "stdout",
     "text": [
      "2\n",
      "3\n",
      "4\n",
      "'tuple' object does not support item assignment\n",
      "Tuple object is immutable!\n",
      "128\n",
      "64\n",
      "32\n"
     ]
    }
   ],
   "metadata": {}
  },
  {
   "cell_type": "markdown",
   "source": [
    "## Data Structure (Set):\n",
    "\n",
    "- Question 8:\n",
    "    - Here are 2 lists:\n",
    "        - list1 = ['gauss', 'ampere', 'volta', 'tesla']\n",
    "        - list2 = ['gauss','maxwell', 'lorentz', 'hertz', 'tesla']\n",
    "            - Show the common elements in both lists\n",
    "            - Show the elements are in list1 but NOT in list2\n",
    "            - Show the elements are in list2 but NOT in list1\n",
    "            - Show the unique elements in list1 & list2:\n",
    "                - The result should look like this:<br>\n",
    "                    &rarr; The common elements in both lists: {'tesla', 'gauss'} <br>\n",
    "                    &emsp; The elements are in list1 but NOT in list2: {'ampere', 'volta'}<br>\n",
    "                    &emsp; The elements are in list2 but NOT in list1: {'maxwell', 'lorentz', 'hertz'}<br>\n",
    "                    &emsp; The unique elements in list1 & list2: {'volta', 'maxwell', 'lorentz', 'gauss', 'ampere', 'hertz', 'tesla'}\n"
   ],
   "metadata": {}
  },
  {
   "cell_type": "code",
   "execution_count": 126,
   "source": [
    "list1 = ['gauss', 'ampere', 'volta', 'tesla']\n",
    "list2 = ['gauss','maxwell', 'lorentz', 'hertz', 'tesla']\n",
    "\n",
    "print(f\"The common elements in both lists: {set(list1) & set(list2)}\")\n",
    "print(f\"The elements are in list1 but NOT in list2: {set(list1) - set(list2)}\")\n",
    "print(f\"The elements are in list2 but NOT in list1: {set(list2) - set(list1)}\")\n",
    "print(f\"The unique elements in list1 & list2: {set(list1) | set(list2)}\")"
   ],
   "outputs": [
    {
     "output_type": "stream",
     "name": "stdout",
     "text": [
      "The common elements in both lists: {'tesla', 'gauss'}\n",
      "The elements are in list1 but NOT in list2: {'ampere', 'volta'}\n",
      "The elements are in list2 but NOT in list1: {'maxwell', 'lorentz', 'hertz'}\n",
      "The unique elements in list1 & list2: {'volta', 'maxwell', 'lorentz', 'gauss', 'ampere', 'hertz', 'tesla'}\n"
     ]
    }
   ],
   "metadata": {}
  },
  {
   "cell_type": "markdown",
   "source": [
    "## Data Structure (List & Dictionary):\n",
    "\n",
    "- Question 9-1:\n",
    "    - Can you write a program to sort the following list in ascending and descending order?\n",
    "    - Here is the list: nums = [1, 7, 21, 35, 35, 21, 7, 1]\n",
    "    - The result should look like this:<br>\n",
    "        &rarr; [1, 1, 7, 7, 21, 21, 35, 35]<br>\n",
    "        &emsp; [35, 35, 21, 21, 7, 7, 1, 1]<br>\n",
    "<br>\n",
    "- Question 9-2:\n",
    "    - You have a list showing people's programming skills (see the variable \"skills\" below).\n",
    "    - Please write a \"for loop\" to print the first 3 people's programming skills.\n",
    "    - The result should look like this:<br>\n",
    "        &rarr; Jack knows the following languages: Fortran, C++ <br>\n",
    "        &emsp; Eva knows the following languages: Java, C++, Python <br>\n",
    "        &emsp; Steve knows the following languages: Ruby, Python"
   ],
   "metadata": {}
  },
  {
   "cell_type": "code",
   "execution_count": 162,
   "source": [
    "# Solution 9-1-1:\n",
    "\n",
    "nums = [1, 7, 21, 35, 35, 21, 7, 1]\n",
    "\n",
    "print(sorted(nums))\n",
    "print(sorted(nums, reverse = True))"
   ],
   "outputs": [
    {
     "output_type": "stream",
     "name": "stdout",
     "text": [
      "[1, 1, 7, 7, 21, 21, 35, 35]\n",
      "[35, 35, 21, 21, 7, 7, 1, 1]\n"
     ]
    }
   ],
   "metadata": {}
  },
  {
   "cell_type": "code",
   "execution_count": 161,
   "source": [
    "# Solution 9-1-2:\n",
    "\n",
    "nums = [1, 7, 21, 35, 35, 21, 7, 1]\n",
    "\n",
    "nums.sort()\n",
    "print(nums)\n",
    "nums.sort(reverse = True)\n",
    "print(nums)"
   ],
   "outputs": [
    {
     "output_type": "stream",
     "name": "stdout",
     "text": [
      "[1, 1, 7, 7, 21, 21, 35, 35]\n",
      "[35, 35, 21, 21, 7, 7, 1, 1]\n"
     ]
    }
   ],
   "metadata": {}
  },
  {
   "cell_type": "code",
   "execution_count": 150,
   "source": [
    "# solution 9-2:\n",
    "\n",
    "skills = [\n",
    "    {\"first_name\": \"Jack\", \"programming_languages\": \"Fortran, C++\"},\n",
    "    {\"first_name\": \"Eva\", \"programming_languages\": \"Java, C++, Python\"},\n",
    "    {\"first_name\": \"Steve\", \"programming_languages\": \"Ruby, Python\"},\n",
    "    {\"first_name\": \"Sarah\", \"programming_languages\": \"Perl, R\"},\n",
    "    {\"first_name\": \"Rose\", \"programming_languages\": \"Matlab, Pascal, Julia\"}\n",
    "]"
   ],
   "outputs": [],
   "metadata": {}
  },
  {
   "cell_type": "code",
   "execution_count": 151,
   "source": [
    "for i in skills[:3]:\n",
    "    print(f\"{i['first_name']} knows the following languages: {i['programming_languages']}\")"
   ],
   "outputs": [
    {
     "output_type": "stream",
     "name": "stdout",
     "text": [
      "Jack knows the following languages: Fortran, C++\n",
      "Eva knows the following languages: Java, C++, Python\n",
      "Steve knows the following languages: Ruby, Python\n"
     ]
    }
   ],
   "metadata": {}
  },
  {
   "cell_type": "markdown",
   "source": [
    "## Data Structure (List & Dictionary):\n",
    "\n",
    "- Question 10:\n",
    "    - You're a data scientist tasked to build a translator for your client. Your client would like to ask a chatbot to <br>\n",
    "      translate a document for him and you are testing your python codes to see the translation result.<br>\n",
    "      Your client also would like to see how much it costs for this document translation.<br>\n",
    "<br>\n",
    "      Here is the testing result: (Please see the variable \"completion\" below)<br>\n",
    "      Can you print the translation reslt and the total cost?<br>\n",
    "      - Hint: The translation result is the value stored in the \"content\" key.\n",
    "      - Hint: The total cost is the value stored in the \"total_tokens\" key.\n",
    "      - The result should look like this:<br>\n",
    "        &rarr; Here is the translation result: Ich liebe Data Science!<br>\n",
    "        &emsp; The total cost is 32.\n",
    "      \n",
    "\n"
   ],
   "metadata": {}
  },
  {
   "cell_type": "code",
   "execution_count": 141,
   "source": [
    "completion = {\n",
    "  \"choices\": [\n",
    "    {\n",
    "      \"finish_reason\": \"stop\",\n",
    "      \"index\": 0,\n",
    "      \"message\": {\n",
    "        \"content\": \"Ich liebe Data Science!\",\n",
    "        \"role\": \"assistant\"\n",
    "      }\n",
    "    }\n",
    "  ],\n",
    "  \"created\": 1682632053,\n",
    "  \"id\": \"chatcmpl-7A3kbFvPYzG0ujAs5mPFIjrMqnyHb\",\n",
    "  \"model\": \"chatbot1\",\n",
    "  \"object\": \"chat.completion\",\n",
    "  \"usage\": {\n",
    "    \"completion_tokens\": 5,\n",
    "    \"prompt_tokens\": 27,\n",
    "    \"total_tokens\": 32\n",
    "  }\n",
    "}"
   ],
   "outputs": [],
   "metadata": {}
  },
  {
   "cell_type": "code",
   "execution_count": 145,
   "source": [
    "print(f\"Here is the translation result: {completion['choices'][0]['message']['content']}\")\n",
    "print(f\"The total cost is {completion['usage']['total_tokens']}.\")"
   ],
   "outputs": [
    {
     "output_type": "stream",
     "name": "stdout",
     "text": [
      "Here is the translation result: Ich liebe Data Science!\n",
      "The total cost is 32.\n"
     ]
    }
   ],
   "metadata": {}
  },
  {
   "cell_type": "code",
   "execution_count": null,
   "source": [],
   "outputs": [],
   "metadata": {}
  }
 ],
 "metadata": {
  "orig_nbformat": 4,
  "language_info": {
   "name": "python",
   "version": "3.8.5",
   "mimetype": "text/x-python",
   "codemirror_mode": {
    "name": "ipython",
    "version": 3
   },
   "pygments_lexer": "ipython3",
   "nbconvert_exporter": "python",
   "file_extension": ".py"
  },
  "kernelspec": {
   "name": "python3",
   "display_name": "Python 3.8.5 64-bit ('base': conda)"
  },
  "interpreter": {
   "hash": "0c2a3eb2b4bb7385d62df44902d8a819643fb968efd7b2f0d85bc574e8a1e85b"
  }
 },
 "nbformat": 4,
 "nbformat_minor": 2
}