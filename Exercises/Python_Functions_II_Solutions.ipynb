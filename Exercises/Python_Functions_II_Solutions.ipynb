{
 "cells": [
  {
   "cell_type": "markdown",
   "source": [
    "## Lambda Function:\n",
    "\n",
    "- Question 1 (printing a message): \n",
    "    - Define a lambda function which takes an input parameter and assign it to a new variable named `msg`.<br>\n",
    "      This lambda function is to print the following message,\n",
    "\n",
    "        ```py\n",
    "            Python is fun!\n",
    "        ```\n",
    "        <br>\n",
    "    - The result should look like this:\n",
    "        ```py\n",
    "            Python is fun!\n",
    "        ```\n",
    "        "
   ],
   "metadata": {},
   "attachments": {}
  },
  {
   "cell_type": "code",
   "execution_count": 2,
   "source": [
    "msg = lambda x: print(x)\n",
    "msg(\"Python is fun!\")"
   ],
   "outputs": [
    {
     "output_type": "stream",
     "name": "stdout",
     "text": [
      "Python is fun!\n"
     ]
    }
   ],
   "metadata": {}
  },
  {
   "cell_type": "markdown",
   "source": [
    "## Lambda Function:\n",
    "\n",
    "- Question 2 (addition): \n",
    "    - Define a lambda function to take 2 input parameters and assign it to a new variable named `addition`.<br>\n",
    "      This lambda function is to perform addition for the 2 input parameters.\n",
    "    - test your function with the following arguments:<br>\n",
    "        - take integers 2 & 3\n",
    "        - take integers -1 & 4\n",
    "        - take integers 3 & 5\n",
    "\n",
    "    - The result should look like this:\n",
    "\n",
    "        ```py\n",
    "            5\n",
    "            3\n",
    "            8\n",
    "        ```"
   ],
   "metadata": {},
   "attachments": {}
  },
  {
   "cell_type": "code",
   "execution_count": 5,
   "source": [
    "addition = lambda x, y: x+y\n",
    "\n",
    "print(addition(2,3))\n",
    "print(addition(-1, 4))\n",
    "print(addition(3, 5))"
   ],
   "outputs": [
    {
     "output_type": "stream",
     "name": "stdout",
     "text": [
      "5\n",
      "3\n",
      "8\n"
     ]
    }
   ],
   "metadata": {}
  },
  {
   "cell_type": "markdown",
   "source": [
    "## Lambda Function:\n",
    "\n",
    "- Question 3(call a lambda function in another function): \n",
    "    - Write a function to call the lambda function above and the function will return the additional result.\n",
    "    - test your function with integers 2 & 3\n",
    "    - the result should look like this:\n",
    "    ```py\n",
    "        5\n",
    "    ```"
   ],
   "metadata": {},
   "attachments": {}
  },
  {
   "cell_type": "code",
   "execution_count": 6,
   "source": [
    "def show_addition_result(num1, num2):\n",
    "\n",
    "    return addition(num1, num2)\n",
    "\n",
    "show_addition_result(2, 3)"
   ],
   "outputs": [
    {
     "output_type": "execute_result",
     "data": {
      "text/plain": [
       "5"
      ]
     },
     "metadata": {},
     "execution_count": 6
    }
   ],
   "metadata": {}
  },
  {
   "cell_type": "markdown",
   "source": [
    "## Function:\n",
    "\n",
    "- Question 4 (check data type):\n",
    "    - Write a function which takes an input parameter and this function is to print a message about the data type of this argument.\n",
    "    - test your function with the following objects\n",
    "    - the result should look like this:\n",
    "    ```py\n",
    "        data science is a string!\n",
    "        5 is an integer!\n",
    "        3.14 is a float!\n",
    "        ['a', 1, [2]] is a list!\n",
    "        {'city': 'Irvine'} is a dictionary!\n",
    "        ('1970/01/01', 3.1415926) is a tuple!\n",
    "        {'France', 'Germany', 'US'} is a set!\n",
    "    ```"
   ],
   "metadata": {}
  },
  {
   "cell_type": "code",
   "execution_count": 26,
   "source": [
    "def check_type(obj):\n",
    "    \n",
    "    if type(obj) == str:\n",
    "        print(f\"{obj} is a string!\")\n",
    "    elif type(obj) == int:\n",
    "        print(f\"{obj} is an integer!\")\n",
    "    elif type(obj) == float:\n",
    "        print(f\"{obj} is a float!\")\n",
    "    elif type(obj) == list:\n",
    "        print(f\"{obj} is a list!\")\n",
    "    elif type(obj) == dict:\n",
    "        print(f\"{obj} is a dictionay!\")\n",
    "    elif type(obj) == tuple:\n",
    "        print(f\"{obj} is a tuple!\")\n",
    "    elif type(obj) == set:\n",
    "        print(f\"{obj} is a set!\")\n",
    "    else:\n",
    "        print(\"Please check any typo in your object!\")"
   ],
   "outputs": [],
   "metadata": {}
  },
  {
   "cell_type": "code",
   "execution_count": 5,
   "source": [
    "a = 'data science'\n",
    "b = 5\n",
    "c = 3.14\n",
    "d = ['a', 1, [2]]\n",
    "f = {'city': 'Irvine'}\n",
    "g = ('1970/01/01', 3.1415926)\n",
    "h = {'US', 'France', 'Germany'}\n"
   ],
   "outputs": [],
   "metadata": {}
  },
  {
   "cell_type": "code",
   "execution_count": 27,
   "source": [
    "obj = [a, b, c, d, f, g, h]\n",
    "\n",
    "for i in obj:\n",
    "    check_type(i)"
   ],
   "outputs": [
    {
     "output_type": "stream",
     "name": "stdout",
     "text": [
      "data science is a string!\n",
      "5 is an integer!\n",
      "3.14 is a float!\n",
      "['a', 1, [2]] is a list!\n",
      "{'city': 'Irvine'} is a dictionay!\n",
      "('1970/01/01', 3.1415926) is a tuple!\n",
      "{'France', 'Germany', 'US'} is a set!\n"
     ]
    }
   ],
   "metadata": {}
  },
  {
   "cell_type": "markdown",
   "source": [
    "## Function:\n",
    "\n",
    "- Question 5 (hours converter):\n",
    "    - Write a function which takes an input parameter to convert hours to minutes.\n",
    "    - Note: please use `return` statement in your function\n",
    "    - The result should look like this:\n",
    "    ```py\n",
    "        '1.5 hrs = 90.0 minutes.'\n",
    "    ```"
   ],
   "metadata": {}
  },
  {
   "cell_type": "code",
   "execution_count": 8,
   "source": [
    "def hour_to_min(h):\n",
    "    \n",
    "    return f\"{h} hrs = {h*60} minutes.\"\n",
    "\n",
    "hour_to_min(1.5)"
   ],
   "outputs": [
    {
     "output_type": "execute_result",
     "data": {
      "text/plain": [
       "'1.5 hrs = 90.0 minutes.'"
      ]
     },
     "metadata": {},
     "execution_count": 8
    }
   ],
   "metadata": {}
  },
  {
   "cell_type": "markdown",
   "source": [
    "## Function:\n",
    "\n",
    "- Question 6 (Fruits):\n",
    "    - Write a function which takes a list as an argument and inside the function, append these fruits to a new list called `basket` <br>\n",
    "      and return `basket` in the end\n",
    "    - The result should look like this:\n",
    "    ```py\n",
    "      ['avocado', 'guava', 'mango', 'peach', 'apple']\n",
    "    ```"
   ],
   "metadata": {}
  },
  {
   "cell_type": "code",
   "execution_count": 9,
   "source": [
    "fruits = ['apple', 'peach', 'mango', 'guava', 'avocado']"
   ],
   "outputs": [],
   "metadata": {}
  },
  {
   "cell_type": "code",
   "execution_count": 10,
   "source": [
    "def to_basket(fruits):\n",
    "    \n",
    "    basket = []\n",
    "\n",
    "    while len(fruits) > 0:\n",
    "        fruit = fruits.pop()\n",
    "        basket.append(fruit)\n",
    "    \n",
    "    return basket"
   ],
   "outputs": [],
   "metadata": {}
  },
  {
   "cell_type": "code",
   "execution_count": 11,
   "source": [
    "to_basket(fruits)"
   ],
   "outputs": [
    {
     "output_type": "execute_result",
     "data": {
      "text/plain": [
       "['avocado', 'guava', 'mango', 'peach', 'apple']"
      ]
     },
     "metadata": {},
     "execution_count": 11
    }
   ],
   "metadata": {}
  },
  {
   "cell_type": "markdown",
   "source": [
    "## Function:\n",
    "\n",
    "- Question 7 (summation):\n",
    "    - Write a function that can take arbitrary arguments and return the summation result.\n",
    "    - Test your function with integers from 1 to 6\n",
    "    -  The result should look like this:\n",
    "        ```py\n",
    "            21\n",
    "        ```"
   ],
   "metadata": {}
  },
  {
   "cell_type": "code",
   "execution_count": 12,
   "source": [
    "def sum_total(*args):\n",
    "    \n",
    "    return sum(args)"
   ],
   "outputs": [],
   "metadata": {}
  },
  {
   "cell_type": "code",
   "execution_count": 13,
   "source": [
    "sum_total(1, 2, 3, 4, 5, 6)"
   ],
   "outputs": [
    {
     "output_type": "execute_result",
     "data": {
      "text/plain": [
       "21"
      ]
     },
     "metadata": {},
     "execution_count": 13
    }
   ],
   "metadata": {}
  },
  {
   "cell_type": "markdown",
   "source": [
    "## Function:\n",
    "\n",
    "- Question 8 (personal info):\n",
    "    - Write a function that can take arbitrary keyword arguments which is a person's information and return the keyword arguments.\n",
    "    - The result should look like this:\n",
    "    ```py\n",
    "        {'fname': 'Lewis',\n",
    "        'lname': 'Hamilton',\n",
    "        'nationality': 'UK',\n",
    "        'occupation': 'racing driver'}\n",
    "    ```"
   ],
   "metadata": {}
  },
  {
   "cell_type": "code",
   "execution_count": 14,
   "source": [
    "def personal_info(**kwargs):\n",
    "    \n",
    "    return kwargs"
   ],
   "outputs": [],
   "metadata": {}
  },
  {
   "cell_type": "code",
   "execution_count": 15,
   "source": [
    "personal_info(fname = 'Lewis', lname = 'Hamilton', nationality = 'UK',  occupation = 'racing driver')"
   ],
   "outputs": [
    {
     "output_type": "execute_result",
     "data": {
      "text/plain": [
       "{'fname': 'Lewis',\n",
       " 'lname': 'Hamilton',\n",
       " 'nationality': 'UK',\n",
       " 'occupation': 'racing driver'}"
      ]
     },
     "metadata": {},
     "execution_count": 15
    }
   ],
   "metadata": {}
  },
  {
   "cell_type": "markdown",
   "source": [
    "## Function:\n",
    "\n",
    "- Question 9 (math operation):\n",
    "    - Write a function to take the `num_lst` as an argument and a default parameter called `addition` with the argument `True` <br>\n",
    "      and this function will perform the following actions:<br>\n",
    "      - if `addition = True`, then add `1` to each element in the `num_lst`\n",
    "      - if `addition = False`, then multiply `2` to each element in the `num_lst`\n",
    "      - Please call the function with the following steps:<br>\n",
    "        - call the function ***without*** overwriting the default argument\n",
    "        - call the function ***with*** overwriting the default argument\n",
    "      - The result should look like this:\n",
    "        ```py\n",
    "          [2, 3, 4]\n",
    "          [2, 4, 6]\n",
    "        ```"
   ],
   "metadata": {}
  },
  {
   "cell_type": "code",
   "execution_count": 16,
   "source": [
    "num_lst = [1, 2, 3]"
   ],
   "outputs": [],
   "metadata": {}
  },
  {
   "cell_type": "code",
   "execution_count": 17,
   "source": [
    "def math_operation(num_lst, addition = True):\n",
    "    \n",
    "    new_list = []\n",
    "    \n",
    "    if addition:\n",
    "        for i in num_lst:\n",
    "            new_list.append(i+1)\n",
    "    else:\n",
    "        for i in num_lst:\n",
    "            new_list.append(i*2)\n",
    "    \n",
    "    return new_list\n",
    "            "
   ],
   "outputs": [],
   "metadata": {}
  },
  {
   "cell_type": "code",
   "execution_count": 18,
   "source": [
    "print(math_operation(num_lst))\n",
    "print(math_operation(num_lst, False))"
   ],
   "outputs": [
    {
     "output_type": "stream",
     "name": "stdout",
     "text": [
      "[2, 3, 4]\n",
      "[2, 4, 6]\n"
     ]
    }
   ],
   "metadata": {}
  },
  {
   "cell_type": "markdown",
   "source": [
    "## Function:\n",
    "\n",
    "- Question 10 (find common letters):\n",
    "    - Write a function that takes 3 parameters and will return the common letters in a list.\n",
    "    - The result should look like this:\n",
    "    ```py\n",
    "        ['e', 'r', ' ', 's', 'o']\n",
    "    ```"
   ],
   "metadata": {}
  },
  {
   "cell_type": "code",
   "execution_count": 24,
   "source": [
    "algo_1 = 'Linear Regression'\n",
    "algo_2 = 'Decision Tree'\n",
    "algo_3 = 'Neural Networks'"
   ],
   "outputs": [],
   "metadata": {}
  },
  {
   "cell_type": "code",
   "execution_count": 22,
   "source": [
    "def common_letters(s1, s2, s3):\n",
    "    \n",
    "    c_alphabets = []\n",
    "    \n",
    "    for i in s1:\n",
    "        if (i in s2) and (i in s3) and not (i in c_alphabets):\n",
    "            c_alphabets.append(i)\n",
    "    \n",
    "    return c_alphabets"
   ],
   "outputs": [],
   "metadata": {}
  },
  {
   "cell_type": "code",
   "execution_count": 25,
   "source": [
    "common_letters(algo_1, algo_2, algo_3)"
   ],
   "outputs": [
    {
     "output_type": "execute_result",
     "data": {
      "text/plain": [
       "['e', 'r', ' ', 's', 'o']"
      ]
     },
     "metadata": {},
     "execution_count": 25
    }
   ],
   "metadata": {}
  },
  {
   "cell_type": "code",
   "execution_count": null,
   "source": [],
   "outputs": [],
   "metadata": {}
  }
 ],
 "metadata": {
  "kernelspec": {
   "name": "python3",
   "display_name": "Python 3.8.5 64-bit ('base': conda)"
  },
  "language_info": {
   "codemirror_mode": {
    "name": "ipython",
    "version": 3
   },
   "file_extension": ".py",
   "mimetype": "text/x-python",
   "name": "python",
   "nbconvert_exporter": "python",
   "pygments_lexer": "ipython3",
   "version": "3.8.5"
  },
  "orig_nbformat": 4,
  "interpreter": {
   "hash": "0c2a3eb2b4bb7385d62df44902d8a819643fb968efd7b2f0d85bc574e8a1e85b"
  }
 },
 "nbformat": 4,
 "nbformat_minor": 2
}