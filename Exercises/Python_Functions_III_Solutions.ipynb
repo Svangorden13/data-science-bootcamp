{
 "cells": [
  {
   "cell_type": "markdown",
   "source": [
    "## Function:\n",
    "\n",
    "- Question 1 (math operation): \n",
    "    - Write a function that can take 2 input parameters, and this function will return:\n",
    "      - sum\n",
    "      - subtraction\n",
    "      - multiplcation\n",
    "      - use integers `2` & `3` to test your function\n",
    "\n",
    "    - The result should look like this:\n",
    "        ```py\n",
    "            'Here is the sum: 5, subtraction: -1, multiplication: 6'\n",
    "        ```\n",
    "        "
   ],
   "metadata": {},
   "attachments": {}
  },
  {
   "cell_type": "code",
   "execution_count": 1,
   "source": [
    "def math_operation(num1, num2):\n",
    "    \n",
    "    return f\"Here is the sum: {num1+num2}, subtraction: {num1-num2}, multiplication: {num1*num2}\""
   ],
   "outputs": [],
   "metadata": {}
  },
  {
   "cell_type": "code",
   "execution_count": 2,
   "source": [
    "math_operation(2, 3)"
   ],
   "outputs": [
    {
     "output_type": "execute_result",
     "data": {
      "text/plain": [
       "'Here is the sum: 5, subtraction: -1, multiplication: 6'"
      ]
     },
     "metadata": {},
     "execution_count": 2
    }
   ],
   "metadata": {}
  },
  {
   "cell_type": "markdown",
   "source": [
    "## Function:\n",
    "\n",
    "- Question 2 (check nums): \n",
    "    - Write a function that can accept an input number(integer) and this function will check whether this number is inside the list `x` or not.\n",
    "    - Please put the list `x` inside the function. Test your function with integer `24` and `56`.\n",
    "        ```py\n",
    "          x = [24, 78, 156, 256, 78]\n",
    "        ```\n",
    "    - The result should look like this:\n",
    "\n",
    "        ```py\n",
    "            24 is in the list!\n",
    "            56 is not in the list!\n",
    "        ```"
   ],
   "metadata": {},
   "attachments": {}
  },
  {
   "cell_type": "code",
   "execution_count": 3,
   "source": [
    "def checking_nums(num):\n",
    "    \n",
    "    x = [24, 78, 156, 256, 78]\n",
    "    \n",
    "    if num in x:\n",
    "        print(f\"{num} is in the list!\")\n",
    "    else:\n",
    "        print(f\"{num} is not in the list!\")\n",
    "    "
   ],
   "outputs": [],
   "metadata": {}
  },
  {
   "cell_type": "code",
   "execution_count": 4,
   "source": [
    "checking_nums(24)"
   ],
   "outputs": [
    {
     "output_type": "stream",
     "name": "stdout",
     "text": [
      "24 is in the list!\n"
     ]
    }
   ],
   "metadata": {}
  },
  {
   "cell_type": "code",
   "execution_count": 5,
   "source": [
    "checking_nums(56)"
   ],
   "outputs": [
    {
     "output_type": "stream",
     "name": "stdout",
     "text": [
      "56 is not in the list!\n"
     ]
    }
   ],
   "metadata": {}
  },
  {
   "cell_type": "markdown",
   "source": [
    "## Function:\n",
    "\n",
    "- Question 3(find the maximum value): \n",
    "    - Write a function to take 3 values and return the maximum of the 3 values\n",
    "    - test your function with integers `6`, `7`, `-1`\n",
    "    - the result should look like this:\n",
    "    ```py\n",
    "        7\n",
    "    ```"
   ],
   "metadata": {},
   "attachments": {}
  },
  {
   "cell_type": "code",
   "execution_count": 6,
   "source": [
    "def find_max(num1, num2, num3):\n",
    "    \n",
    "    return max((num1, num2, num3))"
   ],
   "outputs": [],
   "metadata": {}
  },
  {
   "cell_type": "code",
   "execution_count": 7,
   "source": [
    "find_max(6, 7, -1)"
   ],
   "outputs": [
    {
     "output_type": "execute_result",
     "data": {
      "text/plain": [
       "7"
      ]
     },
     "metadata": {},
     "execution_count": 7
    }
   ],
   "metadata": {}
  },
  {
   "cell_type": "markdown",
   "source": [
    "## Function:\n",
    "\n",
    "- Question 4 (check multiples of 10):\n",
    "    - Write a function which takes an input parameter and return a message to show whether this number is a multiple of 10 or not.\n",
    "    - test your function with integers `10` and `67`\n",
    "    - the result should look like this:\n",
    "    ```py\n",
    "        '10 is the multiple of 10'\n",
    "        '67 is not the multiple of 10'\n",
    "    ```"
   ],
   "metadata": {}
  },
  {
   "cell_type": "code",
   "execution_count": 13,
   "source": [
    "def check_10_multiples(num):\n",
    "    \n",
    "    if num % 10 == 0:\n",
    "        return f\"{num} is the multiple of 10\"\n",
    "    else:\n",
    "        return f\"{num} is not the multiple of 10\""
   ],
   "outputs": [],
   "metadata": {}
  },
  {
   "cell_type": "code",
   "execution_count": 14,
   "source": [
    "check_10_multiples(10)"
   ],
   "outputs": [
    {
     "output_type": "execute_result",
     "data": {
      "text/plain": [
       "'10 is the multiple of 10'"
      ]
     },
     "metadata": {},
     "execution_count": 14
    }
   ],
   "metadata": {}
  },
  {
   "cell_type": "code",
   "execution_count": 15,
   "source": [
    "check_10_multiples(67)"
   ],
   "outputs": [
    {
     "output_type": "execute_result",
     "data": {
      "text/plain": [
       "'67 is not the multiple of 10'"
      ]
     },
     "metadata": {},
     "execution_count": 15
    }
   ],
   "metadata": {}
  },
  {
   "cell_type": "markdown",
   "source": [
    "## Function:\n",
    "\n",
    "- Question 5 (vowels and consonant):\n",
    "    - Write a function which takes a string argument and return how many vowels and consonants in this string.\n",
    "    - Test your function with the string, `LearningFuze`\n",
    "    - The result should look like this:\n",
    "    ```py\n",
    "        'LearningFuze has 5 vowels and 7 consonants.'\n",
    "    ```"
   ],
   "metadata": {}
  },
  {
   "cell_type": "code",
   "execution_count": 14,
   "source": [
    "def check_vowels(s):\n",
    "    \n",
    "    v_counter = 0\n",
    "    c_counter = 0\n",
    "    \n",
    "    for i in s.lower():\n",
    "        if i in ['a', 'e', 'i', 'o', 'u']:\n",
    "            v_counter += 1\n",
    "        else:\n",
    "            c_counter += 1\n",
    "    \n",
    "    return f\"{s} has {v_counter} vowels and {c_counter} consonants.\""
   ],
   "outputs": [],
   "metadata": {}
  },
  {
   "cell_type": "code",
   "execution_count": 15,
   "source": [
    "s = 'LearningFuze'\n",
    "\n",
    "check_vowels(s)"
   ],
   "outputs": [
    {
     "output_type": "execute_result",
     "data": {
      "text/plain": [
       "'LearningFuze has 5 vowels and 7 consonants.'"
      ]
     },
     "metadata": {},
     "execution_count": 15
    }
   ],
   "metadata": {}
  },
  {
   "cell_type": "markdown",
   "source": [
    "## Function:\n",
    "\n",
    "- Question 6 (Factorial):\n",
    "    - Write a function which takes an ineger as an input arguement and return the factorial of the integer.\n",
    "    - Test your function with the ineger `7`\n",
    "    - Hint: How to calculate the factorial of a number?\n",
    "      - If your input number is `3`, then the factorial is `1*2*3 = 6`.<br>\n",
    "<br>\n",
    "    - The result should look like this:\n",
    "    ```py\n",
    "      5040\n",
    "    ```"
   ],
   "metadata": {}
  },
  {
   "cell_type": "code",
   "execution_count": 29,
   "source": [
    "def factorial(num):\n",
    "    \n",
    "    f = 1\n",
    "    \n",
    "    while (num!=0):\n",
    "        f *= num\n",
    "        num -= 1\n",
    "    \n",
    "    return f\n",
    "    "
   ],
   "outputs": [],
   "metadata": {}
  },
  {
   "cell_type": "code",
   "execution_count": 31,
   "source": [
    "factorial(7)"
   ],
   "outputs": [
    {
     "output_type": "execute_result",
     "data": {
      "text/plain": [
       "5040"
      ]
     },
     "metadata": {},
     "execution_count": 31
    }
   ],
   "metadata": {}
  },
  {
   "cell_type": "markdown",
   "source": [
    "## Function:\n",
    "\n",
    "- Question 7 (uppercase):\n",
    "    - Write a function that can take a string and return the words in uppercase.\n",
    "    - Test your function with the string `LearningFuze`.\n",
    "    -  The result should look like this:\n",
    "        ```py\n",
    "            'LEARNINGFUZE'\n",
    "        ```"
   ],
   "metadata": {}
  },
  {
   "cell_type": "code",
   "execution_count": 34,
   "source": [
    "def upper_case(s):\n",
    "    \n",
    "    return s.upper()"
   ],
   "outputs": [],
   "metadata": {}
  },
  {
   "cell_type": "code",
   "execution_count": 35,
   "source": [
    "s = 'LearningFuze'\n",
    "\n",
    "upper_case(s)"
   ],
   "outputs": [
    {
     "output_type": "execute_result",
     "data": {
      "text/plain": [
       "'LEARNINGFUZE'"
      ]
     },
     "metadata": {},
     "execution_count": 35
    }
   ],
   "metadata": {}
  },
  {
   "cell_type": "markdown",
   "source": [
    "## Function:\n",
    "\n",
    "- Question 8 (the area of a circle):\n",
    "    - Write a function that can take the radius of a circle and return the area.\n",
    "    - Test your function with the radius `10`\n",
    "    - Note: use `3.14` for pi constant\n",
    "    - The result should look like this:\n",
    "    ```py\n",
    "        314.0\n",
    "    ```"
   ],
   "metadata": {}
  },
  {
   "cell_type": "code",
   "execution_count": 36,
   "source": [
    "def get_area(r):\n",
    "    \n",
    "    return 3.14*r**2"
   ],
   "outputs": [],
   "metadata": {}
  },
  {
   "cell_type": "code",
   "execution_count": 37,
   "source": [
    "get_area(10)"
   ],
   "outputs": [
    {
     "output_type": "execute_result",
     "data": {
      "text/plain": [
       "314.0"
      ]
     },
     "metadata": {},
     "execution_count": 37
    }
   ],
   "metadata": {}
  },
  {
   "cell_type": "markdown",
   "source": [
    "## Function:\n",
    "\n",
    "- Question 9 (Check substring):\n",
    "    - Write a function that can take 2 arguements, 1 is a longer string, and the other is a shorter string.\n",
    "    - This function will return `True` when the shorter string is a substring of the longer string. \n",
    "    - And the function will return `False` if the shorter string is ***not*** a substring of the longer string.\n",
    "    - Test your function with the following string pairs:\n",
    "    ```py\n",
    "      'blueberry', 'berry'\n",
    "      'watermellon', 'mellon'\n",
    "      'robot', 'dog'\n",
    "    ```\n",
    "\n",
    "    - The result should look like this:\n",
    "    ```py\n",
    "      True\n",
    "      True\n",
    "      False\n",
    "    ```"
   ],
   "metadata": {}
  },
  {
   "cell_type": "code",
   "execution_count": 38,
   "source": [
    "def check_substring(s1, s2):\n",
    "    \n",
    "    if s2 in s1:\n",
    "        return True\n",
    "    else:\n",
    "        return False"
   ],
   "outputs": [],
   "metadata": {}
  },
  {
   "cell_type": "code",
   "execution_count": 39,
   "source": [
    "check_substring('blueberry', 'berry')"
   ],
   "outputs": [
    {
     "output_type": "execute_result",
     "data": {
      "text/plain": [
       "True"
      ]
     },
     "metadata": {},
     "execution_count": 39
    }
   ],
   "metadata": {}
  },
  {
   "cell_type": "code",
   "execution_count": 40,
   "source": [
    "check_substring('watermellon', 'mellon')"
   ],
   "outputs": [
    {
     "output_type": "execute_result",
     "data": {
      "text/plain": [
       "True"
      ]
     },
     "metadata": {},
     "execution_count": 40
    }
   ],
   "metadata": {}
  },
  {
   "cell_type": "code",
   "execution_count": 41,
   "source": [
    "check_substring('robot', 'dog')"
   ],
   "outputs": [
    {
     "output_type": "execute_result",
     "data": {
      "text/plain": [
       "False"
      ]
     },
     "metadata": {},
     "execution_count": 41
    }
   ],
   "metadata": {}
  },
  {
   "cell_type": "markdown",
   "source": [
    "## Function:\n",
    "\n",
    "- Question 10 (username & password generators):\n",
    "    - Write the first function (an username generator) that takes 2 arguments, one is the first name, the other is the last name.<br>\n",
    "      And this function will return the first 3 alphabets in the first name, and concatenate the first 4 alphabets in the last name as the username<br>\n",
    "      - ex: first name is 'ludwig', and last name is 'boltzmann', then the function will return `ludbolt`<br>\n",
    "      <br>\n",
    "    - Write another function (a password generator), that can take the return result (username) from the first function as an argument. <br>\n",
    "      This function will return a password and it will shift all the letters of the username to the right.<br>\n",
    "      - ex: the username is `ludbolt`, then the password will be `tludbol`\n",
    "    - Test your function with these 2 people's names:\n",
    "\n",
    "        ```py\n",
    "        hermann minkowski,\n",
    "        leonhard, euler\n",
    "          \n",
    "        ```\n",
    "      \n",
    "    - The password results should look like this:\n",
    "    ```py\n",
    "        'khermin'\n",
    "        'eleoeul'\n",
    "    ```"
   ],
   "metadata": {}
  },
  {
   "cell_type": "code",
   "execution_count": 7,
   "source": [
    "def username_generator(fname, lname):\n",
    "    \n",
    "    return fname[:3]+lname[:4]"
   ],
   "outputs": [],
   "metadata": {}
  },
  {
   "cell_type": "code",
   "execution_count": 9,
   "source": [
    "def password_generator(username):\n",
    "    \n",
    "    pwd = \"\"\n",
    "    for i in range(len(username)):\n",
    "        pwd += username[i-1]\n",
    "        \n",
    "    return pwd"
   ],
   "outputs": [],
   "metadata": {}
  },
  {
   "cell_type": "code",
   "execution_count": 11,
   "source": [
    "username = username_generator('hermann', 'minkowski')\n",
    "pwd = password_generator(username)\n",
    "pwd"
   ],
   "outputs": [
    {
     "output_type": "execute_result",
     "data": {
      "text/plain": [
       "'khermin'"
      ]
     },
     "metadata": {},
     "execution_count": 11
    }
   ],
   "metadata": {}
  },
  {
   "cell_type": "code",
   "execution_count": 12,
   "source": [
    "username = username_generator('leonhard', 'euler')\n",
    "pwd = password_generator(username)\n",
    "pwd"
   ],
   "outputs": [
    {
     "output_type": "execute_result",
     "data": {
      "text/plain": [
       "'eleoeul'"
      ]
     },
     "metadata": {},
     "execution_count": 12
    }
   ],
   "metadata": {}
  },
  {
   "cell_type": "code",
   "execution_count": null,
   "source": [],
   "outputs": [],
   "metadata": {}
  }
 ],
 "metadata": {
  "kernelspec": {
   "name": "python3",
   "display_name": "Python 3.8.5 64-bit ('base': conda)"
  },
  "language_info": {
   "codemirror_mode": {
    "name": "ipython",
    "version": 3
   },
   "file_extension": ".py",
   "mimetype": "text/x-python",
   "name": "python",
   "nbconvert_exporter": "python",
   "pygments_lexer": "ipython3",
   "version": "3.8.5"
  },
  "orig_nbformat": 4,
  "interpreter": {
   "hash": "0c2a3eb2b4bb7385d62df44902d8a819643fb968efd7b2f0d85bc574e8a1e85b"
  }
 },
 "nbformat": 4,
 "nbformat_minor": 2
}