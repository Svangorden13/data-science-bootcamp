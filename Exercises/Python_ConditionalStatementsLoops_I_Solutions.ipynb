{
 "cells": [
  {
   "cell_type": "markdown",
   "source": [
    "## For-Loop\n",
    "\n",
    "- Question 1 (Generate even numbers):\n",
    "  - Generate even numbers from 2 to 20 by using `for` loop and `range()` function and print the even numbers in the end.\n",
    "  \n",
    "  - The result should look like this:<br>\n",
    "      ```py\n",
    "        2\n",
    "        4\n",
    "        6\n",
    "        8\n",
    "        10\n",
    "        12\n",
    "        14\n",
    "        16\n",
    "        18\n",
    "        20\n",
    "      ```"
   ],
   "metadata": {}
  },
  {
   "cell_type": "code",
   "execution_count": 1,
   "source": [
    "for i in range(2, 21, 2):\n",
    "    print(i)"
   ],
   "outputs": [
    {
     "output_type": "stream",
     "name": "stdout",
     "text": [
      "2\n",
      "4\n",
      "6\n",
      "8\n",
      "10\n",
      "12\n",
      "14\n",
      "16\n",
      "18\n",
      "20\n"
     ]
    }
   ],
   "metadata": {}
  },
  {
   "cell_type": "markdown",
   "source": [
    "## Nested For Loop\n",
    "\n",
    "- Question 2 (2 lists addtion):\n",
    "  - Step 1: Generate 2 lists, 1 list contains even numbers from 2 to 6, the other list contains odd numbers from 1 to 5\n",
    "  - Step 2: Write a nested `for` loop to add elements to each other and append the addtion result to a new list and show this list in the end.\n",
    "  - example: `lst1 = [2, 4]` and `lst2 = [1, 3]`, then <br>\n",
    "  \n",
    "    ```py\n",
    "      2 + 1 = 3\n",
    "      2 + 3 = 5\n",
    "      4 + 1 = 5\n",
    "      4 + 3 = 7\n",
    "    ```\n",
    "              \n",
    "  - The result should look like this:\n",
    "    ```py\n",
    "    [3, 5, 7, 5, 7, 9, 7, 9, 11]\n",
    "    ```"
   ],
   "metadata": {}
  },
  {
   "cell_type": "code",
   "execution_count": 5,
   "source": [
    "nums1 = list(range(2, 7, 2))\n",
    "nums2 = list(range(1, 6, 2))\n",
    "\n",
    "addition = []\n",
    "\n",
    "for i in nums1:\n",
    "    for j in nums2:\n",
    "        addition.append(i+j)\n",
    "\n",
    "addition"
   ],
   "outputs": [
    {
     "output_type": "execute_result",
     "data": {
      "text/plain": [
       "[3, 5, 7, 5, 7, 9, 7, 9, 11]"
      ]
     },
     "metadata": {},
     "execution_count": 5
    }
   ],
   "metadata": {}
  },
  {
   "cell_type": "markdown",
   "source": [
    "## Nested For Loop\n",
    "\n",
    "- Question 3 (Show students info):\n",
    "  - Write a nested `for` loop to print the students information.\n",
    "  - The result should look like this:\n",
    "    ```py\n",
    "      Name: Bobby\n",
    "      Id: 1\n",
    "      Age: 20\n",
    "      Name: Alice\n",
    "      Id: 2\n",
    "      Age: 22\n",
    "      Name: Jay\n",
    "      Id: 3\n",
    "      Age: 20\n",
    "    ```"
   ],
   "metadata": {}
  },
  {
   "cell_type": "code",
   "execution_count": 7,
   "source": [
    "data = {\n",
    "    'Student 1': {'Name': 'Bobby', 'Id': 1, \"Age\": 20},\n",
    "    'Student 2': {'Name': 'Alice', 'Id': 2, \"Age\": 22},\n",
    "    'Student 3': {'Name': 'Jay', 'Id': 3, \"Age\": 20},\n",
    "}"
   ],
   "outputs": [],
   "metadata": {}
  },
  {
   "cell_type": "code",
   "execution_count": 11,
   "source": [
    "for i, j in data.items():\n",
    "    for j, k in j.items():\n",
    "        print(f\"{j}: {k}\")\n",
    "    "
   ],
   "outputs": [
    {
     "output_type": "stream",
     "name": "stdout",
     "text": [
      "Name: Bobby\n",
      "Id: 1\n",
      "Age: 20\n",
      "Name: Alice\n",
      "Id: 2\n",
      "Age: 22\n",
      "Name: Jay\n",
      "Id: 3\n",
      "Age: 20\n"
     ]
    }
   ],
   "metadata": {}
  },
  {
   "cell_type": "markdown",
   "source": [
    "## FOR-LOOP + IF-Statement:\n",
    "\n",
    "- Question 4 (Squared odd numbers):\n",
    "    - Show the squared odd numbers from 1 to 9 by using a `for` loop and `if` statement.\n",
    "  - The result should look like this:\n",
    "    ```py\n",
    "        1\n",
    "        9\n",
    "        25\n",
    "        49\n",
    "        81\n",
    "    ```\n"
   ],
   "metadata": {}
  },
  {
   "cell_type": "code",
   "execution_count": 12,
   "source": [
    "for i in range(1, 11):\n",
    "    if i%2 != 0:\n",
    "        print(i**2)"
   ],
   "outputs": [
    {
     "output_type": "stream",
     "name": "stdout",
     "text": [
      "1\n",
      "9\n",
      "25\n",
      "49\n",
      "81\n"
     ]
    }
   ],
   "metadata": {}
  },
  {
   "cell_type": "markdown",
   "source": [
    "## For Loop + If-else statements:\n",
    "\n",
    "- Question 5 (Checking keywords):\n",
    "    - Write a Python program to check if the keyword, `python` is in a sentence or not.\n",
    "    - Note: The keyword `python` is lowercase, so make sure all the strings are lowercase. <br>\n",
    "<br>\n",
    "  - The result should look like this:\n",
    "    ```py\n",
    "      The sentence, 'Python is a high-level, general-purpose programming language.', contains 'python' keyword.\n",
    "      The sentence, 'We use a machine learning algorithm to build a model for forecasting.', does not contain 'python' keyword.\n",
    "    ```"
   ],
   "metadata": {}
  },
  {
   "cell_type": "code",
   "execution_count": 23,
   "source": [
    "sentence_1 = \"Python is a high-level, general-purpose programming language.\"\n",
    "sentence_2 = \"We use a machine learning algorithm to build a model for forecasting.\"\n"
   ],
   "outputs": [],
   "metadata": {}
  },
  {
   "cell_type": "code",
   "execution_count": 28,
   "source": [
    "doc = [sentence_1, sentence_2]\n",
    "\n",
    "for i in doc:\n",
    "    if 'python' in i.lower():\n",
    "        print(f\"The sentence, '{i}', contains 'python' keyword.\")\n",
    "    else:\n",
    "        print(f\"The sentence, '{i}', does not contain 'python' keyword.\")\n",
    "         "
   ],
   "outputs": [
    {
     "output_type": "stream",
     "name": "stdout",
     "text": [
      "The sentence, 'Python is a high-level, general-purpose programming language.', contains 'python' keyword.\n",
      "The sentence, 'We use a machine learning algorithm to build a model for forecasting.', does not contain 'python' keyword.\n"
     ]
    }
   ],
   "metadata": {}
  },
  {
   "cell_type": "markdown",
   "source": [
    "## For Loop + If-elif-else chain:\n",
    "\n",
    "- Question 6 (Separate numbers):\n",
    "  - Step 1: Write a python program to separate the numbers in the following list and here are the rules for separating the numbers:<br>\n",
    "  <br>\n",
    "              - if the number is a positive integer, append the number to a list called `positive_int`<br>\n",
    "              - if the number is zero, append the number to a list called `zero`<br>\n",
    "              - if the number is a negative integer, append the number to a list called `negative_int`<br>\n",
    "<br>\n",
    "\n",
    "  - The result should look like this:\n",
    "\n",
    "    ```py\n",
    "      postive_int: [3, 8, 57, 78, 99, 168, 2]\n",
    "      zero: [0, 0]\n",
    "      negative_int: [-10, -4, -100, -48, -156]\n",
    "    ```"
   ],
   "metadata": {}
  },
  {
   "cell_type": "code",
   "execution_count": 14,
   "source": [
    "nums = [-10, 3, -4, -100, 8, 57, -48, 78, 99, 0, -156, 168, 0, 2]\n",
    "\n",
    "postive_int = []\n",
    "zero = []\n",
    "negative_int = []\n",
    "\n",
    "for i in nums:\n",
    "    if i > 0:\n",
    "        postive_int.append(i)\n",
    "    elif i == 0:\n",
    "        zero.append(i)\n",
    "    else:\n",
    "        negative_int.append(i)\n",
    "\n",
    "print(f\"postive_int: {postive_int}\")\n",
    "print(f\"zero: {zero}\")\n",
    "print(f\"negative_int: {negative_int}\")"
   ],
   "outputs": [
    {
     "output_type": "stream",
     "name": "stdout",
     "text": [
      "postive_int: [3, 8, 57, 78, 99, 168, 2]\n",
      "zero: [0, 0]\n",
      "negative_int: [-10, -4, -100, -48, -156]\n"
     ]
    }
   ],
   "metadata": {}
  },
  {
   "cell_type": "markdown",
   "source": [
    "## While Loop:\n",
    "\n",
    "- Question 7 (Multiples of 2):\n",
    "  - Write a Python program, to print the multiples of 2 from 2 to 20 by using a `while` loop. <br>\n",
    "<br>\n",
    "  - The result should look like this:\n",
    "  \n",
    "    ```py\n",
    "        2\n",
    "        4\n",
    "        6\n",
    "        8\n",
    "        10\n",
    "        12\n",
    "        14\n",
    "        16\n",
    "        18\n",
    "        20\n",
    "    ```"
   ],
   "metadata": {}
  },
  {
   "cell_type": "code",
   "execution_count": 29,
   "source": [
    "counter = 1 \n",
    "\n",
    "while counter <= 10:\n",
    "    print(counter * 2)\n",
    "    counter += 1"
   ],
   "outputs": [
    {
     "output_type": "stream",
     "name": "stdout",
     "text": [
      "2\n",
      "4\n",
      "6\n",
      "8\n",
      "10\n",
      "12\n",
      "14\n",
      "16\n",
      "18\n",
      "20\n"
     ]
    }
   ],
   "metadata": {}
  },
  {
   "cell_type": "markdown",
   "source": [
    "## While Loop + If-else statements:\n",
    "\n",
    "- Question 8 (Summation):\n",
    "    - Write a Python program that can take an input message which you will enter a number everytime until you type in 'q' to quit the program.\n",
    "    - And this program will do summation everytime when you enter a new number.\n",
    "    - ex:\n",
    "        - the first time you key in 1, the program will print `1`\n",
    "        - the second time you key in 2, the program will print `3` (because 1 + 2 = 3)\n",
    "        - the third time you key in 3, the program will print `6` (because 3 + 3 = 6)\n",
    "        - the fourth time you key in 4, the program will print `10` (because 6 + 4 = 10)<br>\n",
    "<br>\n",
    "- The result should look like this:\n",
    "\n",
    "    ```py\n",
    "        1\n",
    "        3\n",
    "        6\n",
    "        10\n",
    "        Exit the program.\n",
    "    ```\n",
    "      "
   ],
   "metadata": {}
  },
  {
   "cell_type": "code",
   "execution_count": 31,
   "source": [
    "total = 0\n",
    "while True:\n",
    "    \n",
    "    num = input(\"Enter a number (enter 'q' to quit): \")\n",
    "    \n",
    "    if num != 'q':\n",
    "        num = int(num)\n",
    "        total += num\n",
    "        print(total)\n",
    "    else:\n",
    "        print('Exit the program.')\n",
    "        break        \n",
    "    "
   ],
   "outputs": [
    {
     "output_type": "stream",
     "name": "stdout",
     "text": [
      "1\n",
      "3\n",
      "6\n",
      "10\n",
      "Exit the program.\n"
     ]
    }
   ],
   "metadata": {}
  },
  {
   "cell_type": "markdown",
   "source": [
    "## For Loop:\n",
    "\n",
    "- Question 9 (Total revenues of a beverage store):\n",
    "    - You're a data scientist in a beverage store and you would like to know what is the total revenues of last week.\n",
    "    - You have 3 lists stored the following informations, the product items, and the price & sales volume for each product.\n",
    "    - Write a `for` loop to calculate the total revenues of last week.<br>\n",
    "<br>\n",
    "  - The result should look like this:\n",
    "      ```py\n",
    "        4720.75\n",
    "      ```\n",
    "\n"
   ],
   "metadata": {}
  },
  {
   "cell_type": "code",
   "execution_count": 32,
   "source": [
    "products = ['cold brew', 'black milk tea', 'fruit tea']\n",
    "price = [5.75, 5.25, 5]\n",
    "sales_volume = [325, 308, 247]"
   ],
   "outputs": [],
   "metadata": {}
  },
  {
   "cell_type": "code",
   "execution_count": 33,
   "source": [
    "total_revenue = 0\n",
    "\n",
    "for i in range(len(products)):\n",
    "    \n",
    "    total_revenue += price[i] * sales_volume[i]\n",
    "\n",
    "print(total_revenue)"
   ],
   "outputs": [
    {
     "output_type": "stream",
     "name": "stdout",
     "text": [
      "4720.75\n"
     ]
    }
   ],
   "metadata": {}
  },
  {
   "cell_type": "markdown",
   "source": [
    "## IF-elif-else chain:\n",
    "\n",
    "- Question 10 (Shipping fee):\n",
    "    - You're buying some products in an online store and you'd like to see what is your shipping price for this order.\n",
    "    - Write a Python program to see what is the shipping price.\n",
    "    - Note: Your shipping price will be package_weight * (price per pound) + (flat rate).\n",
    "    - Here is the price for shipping:<br>\n",
    "    <br>\n",
    "    \n",
    "      | Package Weight | Price Per Pound | Flat Rate |\n",
    "      | :------:| :------: | :------:|\n",
    "      | 2 lb or less |$1.50|$10.0|\n",
    "      | Over 2 lb but less than or equal 6 lb |$3.25|$10.0|\n",
    "      | Over 6 lb but less than or equal 10 lb |$4.00|$10.0|\n",
    "      | Over 10 lb|$4.75| $10.0|<br>\n",
    "    <br>\n",
    "\n",
    "  - The result should look like this:\n",
    "    ```py\n",
    "      Here is your shipping fee: 202.375\n",
    "    ```\n"
   ],
   "metadata": {}
  },
  {
   "cell_type": "code",
   "execution_count": 50,
   "source": [
    "weight = 40.5"
   ],
   "outputs": [],
   "metadata": {}
  },
  {
   "cell_type": "code",
   "execution_count": 52,
   "source": [
    "if weight <= 2:\n",
    "    print(f\"Here is your shipping fee: {weight*1.5+10}\")\n",
    "elif weight <= 6:\n",
    "    print(f\"Here is your shipping fee: {weight*3.25+10}\")\n",
    "elif weight <= 10:\n",
    "    print(f\"Here is your shipping fee: {weight*4.0+10}\")\n",
    "else:\n",
    "    print(f\"Here is your shipping fee: {weight*4.75+10}\")"
   ],
   "outputs": [
    {
     "output_type": "stream",
     "name": "stdout",
     "text": [
      "Here is your shipping fee: 202.375\n"
     ]
    }
   ],
   "metadata": {}
  },
  {
   "cell_type": "code",
   "execution_count": null,
   "source": [],
   "outputs": [],
   "metadata": {}
  }
 ],
 "metadata": {
  "orig_nbformat": 4,
  "language_info": {
   "name": "python",
   "version": "3.8.5",
   "mimetype": "text/x-python",
   "codemirror_mode": {
    "name": "ipython",
    "version": 3
   },
   "pygments_lexer": "ipython3",
   "nbconvert_exporter": "python",
   "file_extension": ".py"
  },
  "kernelspec": {
   "name": "python3",
   "display_name": "Python 3.8.5 64-bit ('base': conda)"
  },
  "interpreter": {
   "hash": "0c2a3eb2b4bb7385d62df44902d8a819643fb968efd7b2f0d85bc574e8a1e85b"
  }
 },
 "nbformat": 4,
 "nbformat_minor": 2
}