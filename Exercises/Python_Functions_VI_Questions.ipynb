{
 "cells": [
  {
   "cell_type": "markdown",
   "source": [
    "## Function:\n",
    "\n",
    "- Question 1 (\bcomparison): \n",
    "    - Write a function that will take a list as an input, and the function will return 2 lists, one contains numbers less than integer 100, and the other contains numbers greater than 100. \n",
    "\n",
    "    - The result should look like this:\n",
    "        ```py\n",
    "            ([0, -95, 8, 9, 10, 56], [1654, 500, 456])\n",
    "        ```\n",
    "        "
   ],
   "metadata": {},
   "attachments": {}
  },
  {
   "cell_type": "code",
   "execution_count": 1,
   "source": [
    "nums = [0, -95, 1654, 500, 8, 456, 9, 10, 56]"
   ],
   "outputs": [],
   "metadata": {}
  },
  {
   "cell_type": "code",
   "execution_count": null,
   "source": [],
   "outputs": [],
   "metadata": {}
  },
  {
   "cell_type": "markdown",
   "source": [
    "## Function:\n",
    "\n",
    "- Question 2 (math operation): \n",
    "    - Write 4 functions which are `add`, `subtraction`, `multiple`, `divide`, and each of the functions can take 2 arguments.\n",
    "    - And those functions will return addition, subtraction, multiplication, and division results.\n",
    "    - test your function with the 2 numbers, `100` and `2`\n",
    "    - The result should look like this:\n",
    "\n",
    "\n",
    "        ```py\n",
    "            # addition:\n",
    "            102\n",
    "            # subtraction:\n",
    "            98\n",
    "            # multiplication:\n",
    "            200\n",
    "            # division:\n",
    "            50.0\n",
    "        ```"
   ],
   "metadata": {},
   "attachments": {}
  },
  {
   "cell_type": "code",
   "execution_count": null,
   "source": [],
   "outputs": [],
   "metadata": {}
  },
  {
   "cell_type": "markdown",
   "source": [
    "## Function:\n",
    "\n",
    "- Question 3(people, cars, trucks): \n",
    "    - Write a function to take 3 input parameters, these 3 parameters will take the quantities of people, cars and trucks.\n",
    "    - Inside the function, there are three if-statement blocks, and here are the conditions:\n",
    "\n",
    "        - first if-statement block:\n",
    "            - if the cars quantity is greater than the quantity of people, the function will print a message, `We should take the cars.`\n",
    "            - if the cars quantity is less than the quantity of people, the function will print a message, `We should not take the cars.`\n",
    "            - if the cars quantity is equal to the quantity of people, the function will print a message, `We can't decide.`\n",
    "        - second if-statement block:\n",
    "            - if the trucks quantity is greater than the quantity of cars, the function will print a message, `That's too many trucks.`\n",
    "            - if the trucks quantity is less than the quantity of cars, the function will print a message, `Maybe we could take the trucks.`\n",
    "            - if the trucks quantity is equal to the quantity of cars, the function will print a message, `We still can't decide.`\n",
    "        - third if-statement block:\n",
    "            - if the trucks quantity is greater than the quantity of people, the function will print a message, `Alight, let's just take the trucks.`\n",
    "            - For other conditions, the function will print a message, `Fine, let's stay home then.`\n",
    "    - test your function with the following objects:\n",
    "        ```py\n",
    "        people = 30\n",
    "        cars = 40\n",
    "        trucks = 15\n",
    "        ```\n",
    "\n",
    "    - the result should look like this:\n",
    "    ```py\n",
    "        We should take the cars.\n",
    "        Maybe we could take the trucks.\n",
    "        Alight, let's just take the trucks.\n",
    "    ```"
   ],
   "metadata": {},
   "attachments": {}
  },
  {
   "cell_type": "code",
   "execution_count": 12,
   "source": [
    "people = 30\n",
    "cars = 40\n",
    "trucks = 15"
   ],
   "outputs": [],
   "metadata": {}
  },
  {
   "cell_type": "code",
   "execution_count": null,
   "source": [],
   "outputs": [],
   "metadata": {}
  },
  {
   "cell_type": "markdown",
   "source": [
    "## Function:\n",
    "\n",
    "- Question 4 (while loop):\n",
    "    - Write a function and inside the function, set a counter equal to `0`, and using a `while loop` to append intergers from `0` to `5` in a list. This function will return the list after you call it.\n",
    "    - the result should look like this:\n",
    "    ```py\n",
    "        [0, 1, 2, 3, 4, 5]\n",
    "    ```"
   ],
   "metadata": {}
  },
  {
   "cell_type": "code",
   "execution_count": null,
   "source": [],
   "outputs": [],
   "metadata": {}
  },
  {
   "cell_type": "markdown",
   "source": [
    "## Function:\n",
    "\n",
    "- Question 5 (Fibonacci Series):\n",
    "    - Write a function which takes 1 input parameter and this function will show 2 lists, one list contains even numbers, the other contains odd numbers.\n",
    "    - Test the function with the following list\n",
    "    - The result should look like this:\n",
    "    ```py\n",
    "        even list: [0, 2, 8, 34, 144, 610, 2584]\n",
    "        odd list: [1, 1, 3, 5, 13, 21, 55, 89, 233, 377, 987, 1597, 4181]\n",
    "    ```"
   ],
   "metadata": {}
  },
  {
   "cell_type": "code",
   "execution_count": 15,
   "source": [
    "fibonacci_series = [0, 1, 1, 2, 3, 5, 8, 13, 21, 34, 55, 89, 144, 233, 377, 610, 987, 1597, 2584, 4181]"
   ],
   "outputs": [],
   "metadata": {}
  },
  {
   "cell_type": "code",
   "execution_count": null,
   "source": [],
   "outputs": [],
   "metadata": {}
  },
  {
   "cell_type": "markdown",
   "source": [
    "## Function:\n",
    "\n",
    "- Question 6 (remove an element):\n",
    "    - Write a function which can take a list as an argument. This function will return a new list which it removes the element that is not an animal.\n",
    "\n",
    "    - The result should look like this:\n",
    "    ```py\n",
    "      ['dog', 'cat', 'lion', 'tiger']\n",
    "    ```"
   ],
   "metadata": {}
  },
  {
   "cell_type": "code",
   "execution_count": 18,
   "source": [
    "animals = ['dog', 'cat', 'lion', 'tiger', '$']"
   ],
   "outputs": [],
   "metadata": {}
  },
  {
   "cell_type": "code",
   "execution_count": null,
   "source": [],
   "outputs": [],
   "metadata": {}
  },
  {
   "cell_type": "markdown",
   "source": [
    "## Function:\n",
    "\n",
    "- Question 7 (personal info):\n",
    "    - Write a function that can take a dictionary as an argument and inside the function, it will do the following items.\n",
    "    - 1. print all the keys in the dictionary\n",
    "    - 2. print all the values in the dictionary\n",
    "    - 3. print all the key-values pairs in the dictionary\n",
    "    -  The result should look like this:\n",
    "        ```py\n",
    "            key: first_name\n",
    "            key: last_name\n",
    "            key: hobby\n",
    "            value: Susan\n",
    "            value: Carter\n",
    "            value: cooking\n",
    "            Here is the key: first_name; here is the value: Susan\n",
    "            Here is the key: last_name; here is the value: Carter\n",
    "            Here is the key: hobby; here is the value: cooking\n",
    "        ```"
   ],
   "metadata": {}
  },
  {
   "cell_type": "code",
   "execution_count": 20,
   "source": [
    "personal_info = {\n",
    "    \"first_name\": \"Susan\",\n",
    "    \"last_name\": \"Carter\",\n",
    "    \"hobby\": \"cooking\"\n",
    "}"
   ],
   "outputs": [],
   "metadata": {}
  },
  {
   "cell_type": "code",
   "execution_count": null,
   "source": [],
   "outputs": [],
   "metadata": {}
  },
  {
   "cell_type": "markdown",
   "source": [
    "## Function:\n",
    "\n",
    "- Question 8 (color codes):\n",
    "    - Write a function that can take 2 lists as arguments and this funciton will return a dictionary like the following result.\n",
    "    - The result should look like this:\n",
    "    ```py\n",
    "        {'maroon': '#800000', 'dark red': '#8B0000', 'brown': '#A52A2'}\n",
    "    ```"
   ],
   "metadata": {}
  },
  {
   "cell_type": "code",
   "execution_count": 23,
   "source": [
    "color_names = ['maroon', 'dark red', 'brown']\n",
    "color_codes = ['#800000', '#8B0000', '#A52A2']"
   ],
   "outputs": [],
   "metadata": {}
  },
  {
   "cell_type": "code",
   "execution_count": null,
   "source": [],
   "outputs": [],
   "metadata": {}
  },
  {
   "cell_type": "markdown",
   "source": [
    "## Function:\n",
    "\n",
    "- Question 9 (skills info):\n",
    "    - Write a function that can take a list as an arguement and it will show the first 3 elements in the list.\n",
    "\n",
    "    - The result should look like this:\n",
    "    ```py\n",
    "        Jack knows the following languages: Fortran, C++\n",
    "        Eva knows the following languages: Java, C++, Python\n",
    "        Steve knows the following languages: Ruby, Python\n",
    "    ```"
   ],
   "metadata": {}
  },
  {
   "cell_type": "code",
   "execution_count": 25,
   "source": [
    "skills = [\n",
    "    {\"first_name\": \"Jack\", \"programming_languages\": \"Fortran, C++\"},\n",
    "    {\"first_name\": \"Eva\", \"programming_languages\": \"Java, C++, Python\"},\n",
    "    {\"first_name\": \"Steve\", \"programming_languages\": \"Ruby, Python\"},\n",
    "    {\"first_name\": \"Sarah\", \"programming_languages\": \"Perl, R\"},\n",
    "    {\"first_name\": \"Rose\", \"programming_languages\": \"Matlab, Pascal, Julia\"}\n",
    "]"
   ],
   "outputs": [],
   "metadata": {}
  },
  {
   "cell_type": "code",
   "execution_count": null,
   "source": [],
   "outputs": [],
   "metadata": {}
  },
  {
   "cell_type": "markdown",
   "source": [
    "## Function:\n",
    "\n",
    "- Question 10 (translation and cost):\n",
    "    - Write a function which can take a dictionary as an argument, and the function will return the translation result stored in the \"content\" key\n",
    "    - Write another function which can take a dictionary as an argument, and the function will return the cost stored in the \"total_tokens\" key\n",
    "    - call these 2 functions\n",
    "      \n",
    "    - The result should look like this:\n",
    "    ```py\n",
    "        Here is the translation result: Ich liebe Data Science!\n",
    "        The total cost is 32.\n",
    "    ```"
   ],
   "metadata": {}
  },
  {
   "cell_type": "code",
   "execution_count": 27,
   "source": [
    "completion = {\n",
    "  \"choices\": [\n",
    "    {\n",
    "      \"finish_reason\": \"stop\",\n",
    "      \"index\": 0,\n",
    "      \"message\": {\n",
    "        \"content\": \"Ich liebe Data Science!\",\n",
    "        \"role\": \"assistant\"\n",
    "      }\n",
    "    }\n",
    "  ],\n",
    "  \"created\": 1682632053,\n",
    "  \"id\": \"chatcmpl-7A3kbFvPYzG0ujAs5mPFIjrMqnyHb\",\n",
    "  \"model\": \"chatbot1\",\n",
    "  \"object\": \"chat.completion\",\n",
    "  \"usage\": {\n",
    "    \"completion_tokens\": 5,\n",
    "    \"prompt_tokens\": 27,\n",
    "    \"total_tokens\": 32\n",
    "  }\n",
    "}"
   ],
   "outputs": [],
   "metadata": {}
  },
  {
   "cell_type": "code",
   "execution_count": null,
   "source": [],
   "outputs": [],
   "metadata": {}
  }
 ],
 "metadata": {
  "kernelspec": {
   "name": "python3",
   "display_name": "Python 3.8.5 64-bit ('base': conda)"
  },
  "language_info": {
   "codemirror_mode": {
    "name": "ipython",
    "version": 3
   },
   "file_extension": ".py",
   "mimetype": "text/x-python",
   "name": "python",
   "nbconvert_exporter": "python",
   "pygments_lexer": "ipython3",
   "version": "3.8.5"
  },
  "orig_nbformat": 4,
  "interpreter": {
   "hash": "0c2a3eb2b4bb7385d62df44902d8a819643fb968efd7b2f0d85bc574e8a1e85b"
  }
 },
 "nbformat": 4,
 "nbformat_minor": 2
}